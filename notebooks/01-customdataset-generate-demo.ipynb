{
 "cells": [
  {
   "cell_type": "markdown",
   "metadata": {},
   "source": [
    "# Polynomial GCD Dataset — Minimal Example\n",
    "\n",
    "This notebook shows how **easy** it is to plug a custom *problem generator* into the\n",
    "`transformer_algebra` data pipeline.  \n",
    "Instead of the built‑in `SumProblemGenerator`, we define our own `GCDProblemGenerator`\n",
    "directly in the notebook, import the rest of the library, and instantly obtain a toy dataset."
   ]
  },
  {
   "cell_type": "markdown",
   "metadata": {},
   "source": []
  },
  {
   "cell_type": "markdown",
   "metadata": {},
   "source": [
    "## 1. Imports"
   ]
  },
  {
   "cell_type": "code",
   "execution_count": null,
   "metadata": {},
   "outputs": [],
   "source": [
    "from sage.all import PolynomialRing, GF\n",
    "from transformer_algebra import PolynomialSampler, DatasetGenerator\n",
    "# We will define GCDProblemGenerator below"
   ]
  },
  {
   "cell_type": "markdown",
   "metadata": {},
   "source": [
    "## 2. Define a Polynomial Ring"
   ]
  },
  {
   "cell_type": "code",
   "execution_count": 19,
   "metadata": {},
   "outputs": [],
   "source": [
    "ring = PolynomialRing(GF(7), 2, \"x\", order=\"degrevlex\")  # GF(7) with variables x0, x1\n",
    "ring"
   ]
  },
  {
   "cell_type": "code",
   "execution_count": 20,
   "metadata": {},
   "outputs": [
    {
     "data": {
      "text/plain": [
       "Multivariate Polynomial Ring in x0, x1 over Finite Field of size 7"
      ]
     },
     "execution_count": 20,
     "metadata": {},
     "output_type": "execute_result"
    }
   ],
   "source": [
    "# GF(7) with 2 variables x0, x1\n",
    "ring = PolynomialRing(GF(7), 2, \"x\", order=\"degrevlex\")\n",
    "ring"
   ]
  },
  {
   "cell_type": "markdown",
   "metadata": {},
   "source": [
    "## 3. Build a Polynomial Sampler"
   ]
  },
  {
   "cell_type": "code",
   "execution_count": 21,
   "metadata": {},
   "outputs": [],
   "source": [
    "sampler = PolynomialSampler(\n",
    "    ring=ring,\n",
    "    max_num_terms=6,\n",
    "    max_degree=4,\n",
    "    min_degree=1,\n",
    "    degree_sampling=\"uniform\",\n",
    "    term_sampling=\"uniform\",\n",
    "    nonzero_instance=True,\n",
    ")"
   ]
  },
  {
   "cell_type": "markdown",
   "metadata": {},
   "source": [
    "## 4. Write a **custom** `GCDProblemGenerator`"
   ]
  },
  {
   "cell_type": "code",
   "execution_count": 22,
   "metadata": {},
   "outputs": [],
   "source": [
    "from sage.misc import randstate\n",
    "from sage.misc.prandom import randint\n",
    "\n",
    "class GCDProblemGenerator:\n",
    "    \"\"\"Generate pairs of polynomials and their greatest common divisor.\"\"\"\n",
    "    def __init__(self, sampler):\n",
    "        self.sampler = sampler\n",
    "        self.ring = sampler.ring\n",
    "\n",
    "    def __call__(self, seed: int):\n",
    "        randstate.set_random_seed(seed)\n",
    "\n",
    "        # Draw three polynomials: gcd, q1, q2\n",
    "        gcd_poly, q1, q2 = self.sampler.sample(num_samples=3)\n",
    "\n",
    "        # Force q1, q2 to be *coprime* with each other so gcd is the only common factor\n",
    "        _gcd = q1.gcd(q2)\n",
    "        gcd_poly, q1, q2 = gcd_poly * _gcd, self.ring(q1 / _gcd), self.ring(q2 / _gcd)\n",
    "\n",
    "        F = [gcd_poly * q1, gcd_poly * q2]           # Inputs\n",
    "        g = self.ring(gcd_poly / gcd_poly.lc())      # Normalised GCD (monic)\n",
    "\n",
    "        return F, g"
   ]
  },
  {
   "cell_type": "markdown",
   "metadata": {},
   "source": [
    "**Key idea:** the generator is just a *callable* that returns `(inputs, target)`.  \n",
    "If it follows that contract, `DatasetGenerator` can parallel‑generate samples automatically."
   ]
  },
  {
   "cell_type": "markdown",
   "metadata": {},
   "source": [
    "## 5. Create Data & Inspect a Sample"
   ]
  },
  {
   "cell_type": "code",
   "execution_count": 23,
   "metadata": {},
   "outputs": [
    {
     "name": "stdout",
     "output_type": "stream",
     "text": [
      "Input F (polynomials): [-2*x0*x1^2 + 2*x0*x1, x0*x1^2 - x1^3 - x0*x1 + x1^2]\n",
      "Output G (partial sums): x1^2 - x1\n"
     ]
    }
   ],
   "source": [
    "problem_generator = GCDProblemGenerator(sampler)\n",
    "dataset_generator = DatasetGenerator(ring=ring, n_jobs=1, verbose=False, root_seed=2025)\n",
    "\n",
    "# Single sample\n",
    "F, g = problem_generator(seed=123)\n",
    "print(\"Inputs F:\", F)\n",
    "print(\"Target g:\", g)"
   ]
  },
  {
   "cell_type": "markdown",
   "metadata": {},
   "source": [
    "## 6. Generate a Tiny Dataset"
   ]
  },
  {
   "cell_type": "code",
   "execution_count": 24,
   "metadata": {},
   "outputs": [
    {
     "data": {
      "text/plain": [
       "{'total_time': 0.009609460830688477,\n",
       " 'samples_per_second': 2081.2822230492493,\n",
       " 'num_samples': 20,\n",
       " 'generation_time': {'mean': 0.00045791864395141604,\n",
       "  'std': 0.00012987409280385738,\n",
       "  'min': 0.00032973289489746094,\n",
       "  'max': 0.0008177757263183594},\n",
       " 'input_polynomials_overall': {'num_polynomials': {'mean': 2.0,\n",
       "   'std': 0.0,\n",
       "   'min': 2.0,\n",
       "   'max': 2.0},\n",
       "  'total_degree': {'mean': 7.2,\n",
       "   'std': 2.4617067250182343,\n",
       "   'min': 4.0,\n",
       "   'max': 12.0},\n",
       "  'total_terms': {'mean': 10.0,\n",
       "   'std': 7.063993204979744,\n",
       "   'min': 2.0,\n",
       "   'max': 27.0},\n",
       "  'max_degree': {'mean': 3.95,\n",
       "   'std': 1.2835497652993437,\n",
       "   'min': 2.0,\n",
       "   'max': 6.0},\n",
       "  'min_degree': {'mean': 3.25,\n",
       "   'std': 1.2599603168354152,\n",
       "   'min': 2.0,\n",
       "   'max': 6.0},\n",
       "  'max_terms': {'mean': 6.1,\n",
       "   'std': 3.9736632972611057,\n",
       "   'min': 1.0,\n",
       "   'max': 14.0},\n",
       "  'min_terms': {'mean': 3.9,\n",
       "   'std': 3.3600595232822887,\n",
       "   'min': 1.0,\n",
       "   'max': 13.0},\n",
       "  'max_coeff': {'mean': 5.55,\n",
       "   'std': 0.5894913061275798,\n",
       "   'min': 4.0,\n",
       "   'max': 6.0},\n",
       "  'min_coeff': {'mean': 1.45,\n",
       "   'std': 0.9733961166965892,\n",
       "   'min': 1.0,\n",
       "   'max': 5.0},\n",
       "  'density': {'mean': 0.1963700396825397,\n",
       "   'std': 0.1012441715679377,\n",
       "   'min': 0.061224489795918366,\n",
       "   'max': 0.4}},\n",
       " 'output_polynomials_overall': {'num_polynomials': {'mean': 1.0,\n",
       "   'std': 0.0,\n",
       "   'min': 1.0,\n",
       "   'max': 1.0},\n",
       "  'total_degree': {'mean': 1.85,\n",
       "   'std': 0.8529361054615991,\n",
       "   'min': 1.0,\n",
       "   'max': 3.0},\n",
       "  'total_terms': {'mean': 2.25,\n",
       "   'std': 1.299038105676658,\n",
       "   'min': 1.0,\n",
       "   'max': 5.0},\n",
       "  'max_degree': {'mean': 1.85,\n",
       "   'std': 0.8529361054615991,\n",
       "   'min': 1.0,\n",
       "   'max': 3.0},\n",
       "  'min_degree': {'mean': 1.85,\n",
       "   'std': 0.8529361054615991,\n",
       "   'min': 1.0,\n",
       "   'max': 3.0},\n",
       "  'max_terms': {'mean': 2.25,\n",
       "   'std': 1.299038105676658,\n",
       "   'min': 1.0,\n",
       "   'max': 5.0},\n",
       "  'min_terms': {'mean': 2.25,\n",
       "   'std': 1.299038105676658,\n",
       "   'min': 1.0,\n",
       "   'max': 5.0},\n",
       "  'max_coeff': {'mean': 2.8,\n",
       "   'std': 1.9646882704388502,\n",
       "   'min': 1.0,\n",
       "   'max': 6.0},\n",
       "  'min_coeff': {'mean': 1.0, 'std': 0.0, 'min': 1.0, 'max': 1.0},\n",
       "  'density': {'mean': 0.30104166666666665,\n",
       "   'std': 0.16717623202480772,\n",
       "   'min': 0.0625,\n",
       "   'max': 0.75}}}"
      ]
     },
     "execution_count": 24,
     "metadata": {},
     "output_type": "execute_result"
    }
   ],
   "source": [
    "samples, stats = dataset_generator.run(\n",
    "    num_samples=20,\n",
    "    train=True,\n",
    "    problem_generator=problem_generator\n",
    ")\n",
    "stats"
   ]
  },
  {
   "cell_type": "code",
   "execution_count": 25,
   "metadata": {},
   "outputs": [
    {
     "name": "stdout",
     "output_type": "stream",
     "text": [
      "--- Sample 0 ---\n",
      "F: [-x0*x1^2 + 2*x0*x1, -2*x0*x1^2]\n",
      "G: x0*x1\n",
      "--- Sample 1 ---\n",
      "F: [-3*x0^3 + 3*x0^2 + 3*x0*x1 - 3*x1, 3*x0*x1 - 2*x0 - 3*x1 + 2]\n",
      "G: x0 - 1\n",
      "--- Sample 2 ---\n",
      "F: [-3*x0*x1^3 + x0^2*x1 - 3*x0*x1^2 - x1^3 - x0*x1 - x1^2 - 2*x0 - 2*x1 - 3, -x1^5 - 2*x0*x1^3 - x1^4 - 2*x1^3 - 3*x1^2]\n",
      "G: x1^3 + 2*x0*x1 + x1^2 + 2*x1 + 3\n"
     ]
    }
   ],
   "source": [
    "# Show first three examples\n",
    "for i, (F_i, g_i) in enumerate(samples[:3]):\n",
    "    print(f\"--- Sample {i} ---\")\n",
    "    print(\"F:\", F_i)\n",
    "    print(\"g:\", g_i)"
   ]
  },
  {
   "cell_type": "markdown",
   "metadata": {},
   "source": [
    "Change the ring, sampler hyper‑parameters, or swap in a different generator class,\n",
    "and you immediately get a new task‑specific dataset — **no other code changes needed**."
   ]
  }
 ],
 "metadata": {
  "kernelspec": {
   "display_name": ".venv",
   "language": "python",
   "name": "python3"
  },
  "language_info": {
   "codemirror_mode": {
    "name": "ipython",
    "version": 3
   },
   "file_extension": ".py",
   "mimetype": "text/x-python",
   "name": "python",
   "nbconvert_exporter": "python",
   "pygments_lexer": "ipython3",
   "version": "3.12.9"
  }
 },
 "nbformat": 4,
 "nbformat_minor": 2
}
