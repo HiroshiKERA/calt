{
 "cells": [
  {
   "cell_type": "markdown",
   "metadata": {},
   "source": [
    "# Polynomial GCD Dataset — Minimal Example\n",
    "\n",
    "This notebook shows how **easy** it is to plug a custom *problem generator* into the\n",
    "`transformer_algebra` data pipeline.  \n",
    "Instead of the built‑in `SumProblemGenerator`, we define our own `GCDProblemGenerator`\n",
    "directly in the notebook, import the rest of the library, and instantly obtain a toy dataset."
   ]
  },
  {
   "cell_type": "markdown",
   "metadata": {},
   "source": [
    "## 1. Imports"
   ]
  },
  {
   "cell_type": "code",
   "execution_count": null,
   "metadata": {},
   "outputs": [],
   "source": [
    "!pip install calt-x"
   ]
  },
  {
   "cell_type": "code",
   "execution_count": 1,
   "metadata": {},
   "outputs": [
    {
     "name": "stderr",
     "output_type": "stream",
     "text": [
      "/home/sato/workspace/calt/src/calt/trainer/trainer.py:68: SyntaxWarning: invalid escape sequence '\\['\n",
      "  \"\"\"Run *greedy* or *beam search* generation on the evaluation set.\n",
      "/home/sato/workspace/calt/.venv/lib/python3.12/site-packages/tqdm/auto.py:21: TqdmWarning: IProgress not found. Please update jupyter and ipywidgets. See https://ipywidgets.readthedocs.io/en/stable/user_install.html\n",
      "  from .autonotebook import tqdm as notebook_tqdm\n"
     ]
    }
   ],
   "source": [
    "from typing import Any, List, Tuple, Dict, Union\n",
    "import random\n",
    "from sympy import GF, QQ, RR, ZZ\n",
    "from sympy.polys.rings import ring, PolyRing, PolyElement\n",
    "from calt import (\n",
    "    PolynomialSampler,\n",
    "    DatasetGenerator,\n",
    "    DatasetWriter,\n",
    "    BaseStatisticsCalculator,\n",
    ")"
   ]
  },
  {
   "cell_type": "markdown",
   "metadata": {},
   "source": [
    "## 2. Define a Polynomial Ring"
   ]
  },
  {
   "cell_type": "code",
   "execution_count": 19,
   "metadata": {},
   "outputs": [],
   "source": [
    "ring = PolynomialRing(GF(7), 2, \"x\", order=\"degrevlex\")  # GF(7) with variables x0, x1\n",
    "ring"
   ]
  },
  {
   "cell_type": "code",
   "execution_count": 20,
   "metadata": {},
   "outputs": [
    {
     "data": {
      "text/plain": [
       "Multivariate Polynomial Ring in x0, x1 over Finite Field of size 7"
      ]
     },
     "execution_count": 20,
     "metadata": {},
     "output_type": "execute_result"
    }
   ],
   "source": [
    "# GF(7) with 2 variables x0, x1\n",
    "ring = PolynomialRing(GF(7), 2, \"x\", order=\"degrevlex\")\n",
    "ring"
   ]
  },
  {
   "cell_type": "markdown",
   "metadata": {},
   "source": [
    "## 3. Build a Polynomial Sampler"
   ]
  },
  {
   "cell_type": "code",
   "execution_count": 21,
   "metadata": {},
   "outputs": [],
   "source": [
    "sampler = PolynomialSampler(\n",
    "    ring=ring,\n",
    "    max_num_terms=6,\n",
    "    max_degree=4,\n",
    "    min_degree=1,\n",
    "    degree_sampling=\"uniform\",\n",
    "    term_sampling=\"uniform\",\n",
    "    nonzero_instance=True,\n",
    ")"
   ]
  },
  {
   "cell_type": "markdown",
   "metadata": {},
   "source": [
    "## 4. Write a **custom** `GCDProblemGenerator`"
   ]
  },
  {
   "cell_type": "code",
   "execution_count": 2,
   "metadata": {},
   "outputs": [],
   "source": [
    "class PartialSumProblemGenerator:\n",
    "    \"\"\"\n",
    "    Problem generator for partial sum problems involving polynomials.\n",
    "\n",
    "    This generator generates problems in which the input is a list of polynomials F = [f_1, f_2, ..., f_n],\n",
    "    and the output is a list of polynomials G = [g_1, g_2, ..., g_n], where g_i = f_1 + f_2 + ... + f_i.\n",
    "    \"\"\"\n",
    "\n",
    "    def __init__(\n",
    "        self, sampler: PolynomialSampler, max_polynomials: int, min_polynomials: int\n",
    "    ):\n",
    "        \"\"\"\n",
    "        Initialize polynomial partial sum sampler.\n",
    "\n",
    "        Args:\n",
    "            sampler: Polynomial sampler\n",
    "            max_polynomials: Maximum number of polynomials in F\n",
    "            min_polynomials: Minimum number of polynomials in F\n",
    "        \"\"\"\n",
    "\n",
    "        self.sampler = sampler\n",
    "        self.max_polynomials = max_polynomials\n",
    "        self.min_polynomials = min_polynomials\n",
    "\n",
    "    def __call__(self, seed: int) -> Tuple[List[PolyElement], List[PolyElement]]:\n",
    "        \"\"\"\n",
    "        Generate a single sample.\n",
    "\n",
    "        Each sample consists of:\n",
    "        - Input polynomial system F\n",
    "        - Output polynomial system G (partial sums of F)\n",
    "\n",
    "        Args:\n",
    "            seed: Seed for random number generator\n",
    "\n",
    "        Returns:\n",
    "            Tuple containing (F, G)\n",
    "        \"\"\"\n",
    "\n",
    "        # Set random seed\n",
    "        random.seed(seed)\n",
    "\n",
    "        # Choose number of polynomials for this sample\n",
    "        num_polys = random.randint(self.min_polynomials, self.max_polynomials)\n",
    "\n",
    "        # Generate input polynomials using sampler\n",
    "        F = self.sampler.sample(num_samples=num_polys)\n",
    "\n",
    "        # Generate partial sums for output\n",
    "        G = []\n",
    "        current_sum = 0\n",
    "        for f in F:\n",
    "            current_sum += f\n",
    "            G.append(current_sum)\n",
    "\n",
    "        return F, G"
   ]
  },
  {
   "cell_type": "code",
   "execution_count": 3,
   "metadata": {},
   "outputs": [],
   "source": [
    "class PolyStatisticsCalculator(BaseStatisticsCalculator):\n",
    "    \"\"\"\n",
    "    Statistics calculator for polynomial problems.\n",
    "    \"\"\"\n",
    "\n",
    "    def __init__(self, ring: PolyRing):\n",
    "        \"\"\"\n",
    "        Initialize polynomial statistics calculator.\n",
    "\n",
    "        Args:\n",
    "            ring: Polynomial ring\n",
    "        \"\"\"\n",
    "        self.ring = ring\n",
    "        self.num_vars = ring.ngens\n",
    "        self.coeff_field = ring.domain\n",
    "\n",
    "    def __call__(\n",
    "        self,\n",
    "        problem_input: Union[List[PolyElement], PolyElement],\n",
    "        problem_output: Union[List[PolyElement], PolyElement],\n",
    "    ) -> Dict[str, Any]:\n",
    "        \"\"\"\n",
    "        Calculate statistics for a single generated sample.\n",
    "\n",
    "        Args:\n",
    "            problem_input: Input problem (a list of polynomials or a single polynomial)\n",
    "            problem_output: Output solution (a list of polynomials or a single polynomial)\n",
    "\n",
    "        Returns:\n",
    "            Dictionary containing statistics about the sample\n",
    "        \"\"\"\n",
    "\n",
    "        if isinstance(problem_input, list):\n",
    "            input_stats = self.poly_system_stats(problem_input)\n",
    "        else:\n",
    "            input_stats = self.poly_system_stats([problem_input])\n",
    "        if isinstance(problem_output, list):\n",
    "            output_stats = self.poly_system_stats(problem_output)\n",
    "        else:\n",
    "            output_stats = self.poly_system_stats([problem_output])\n",
    "\n",
    "        return {\n",
    "            \"input\": input_stats,\n",
    "            \"output\": output_stats,\n",
    "        }\n",
    "\n",
    "    def poly_system_stats(self, polys: List[PolyElement]) -> Dict[str, Any]:\n",
    "        \"\"\"\n",
    "        Calculate statistics for a list of polynomials.\n",
    "\n",
    "        Args:\n",
    "            polys: List of polynomials\n",
    "\n",
    "        Returns:\n",
    "            Dictionary containing statistical information about the polynomials\n",
    "        \"\"\"\n",
    "        num_polys = len(polys)\n",
    "\n",
    "        if num_polys == 0:\n",
    "            return {\"num_polynomials\": 0, \"total_degree\": 0, \"total_terms\": 0}\n",
    "\n",
    "        degrees = [self.total_degree(p) for p in polys]\n",
    "        num_terms = [len(p.terms()) for p in polys]\n",
    "\n",
    "        coeffs = []\n",
    "        for p in polys:\n",
    "            if self.coeff_field == QQ:\n",
    "                # For QQ, consider both numerators(分子) and denominators(分母)\n",
    "                coeffs.extend([abs(float(c.numerator)) for c in p.coeffs()])\n",
    "                coeffs.extend([abs(float(c.denominator)) for c in p.coeffs()])\n",
    "            elif self.coeff_field == RR:\n",
    "                # For RR, take absolute values\n",
    "                coeffs.extend([abs(float(c)) for c in p.coeffs()])\n",
    "            elif self.coeff_field == ZZ:\n",
    "                # For ZZ, take absolute values\n",
    "                coeffs.extend([abs(int(c)) for c in p.coeffs()])\n",
    "            elif self.coeff_field.is_FiniteField:  # GF\n",
    "                # For finite fields, just take the values\n",
    "                coeffs.extend([int(c) for c in p.coeffs()])\n",
    "\n",
    "        stats = {\n",
    "            # System size statistics\n",
    "            \"num_polynomials\": num_polys,\n",
    "            \"total_degree\": sum(degrees),\n",
    "            \"total_terms\": sum(num_terms),\n",
    "            # Degree statistics\n",
    "            \"max_degree\": max(degrees),\n",
    "            \"min_degree\": min(degrees),\n",
    "            # Term count statistics\n",
    "            \"max_terms\": max(num_terms),\n",
    "            \"min_terms\": min(num_terms),\n",
    "            # Coefficient statistics\n",
    "            \"max_coeff\": max(coeffs) if coeffs else 0,\n",
    "            \"min_coeff\": min(coeffs) if coeffs else 0,\n",
    "            # Additional system properties\n",
    "            \"density\": float(sum(num_terms))\n",
    "            / (num_polys * (1 + max(degrees)) ** self.num_vars),\n",
    "        }\n",
    "\n",
    "        return stats\n",
    "\n",
    "    def total_degree(self, poly: PolyElement) -> int:\n",
    "        \"\"\"Compute total degree of a polynomial\"\"\"\n",
    "        if poly.is_zero:\n",
    "            return 0\n",
    "        else:\n",
    "            return max(list(sum(monom) for monom in poly.monoms()))\n"
   ]
  },
  {
   "cell_type": "markdown",
   "metadata": {},
   "source": [
    "**Key idea:** the generator is just a *callable* that returns `(inputs, target)`.  \n",
    "If it follows that contract, `DatasetGenerator` can parallel‑generate samples automatically."
   ]
  },
  {
   "cell_type": "markdown",
   "metadata": {},
   "source": [
    "## 5. Create Data & Inspect a Sample"
   ]
  },
  {
   "cell_type": "code",
   "execution_count": 23,
   "metadata": {},
   "outputs": [
    {
     "name": "stdout",
     "output_type": "stream",
     "text": [
      "Input F (polynomials): [-2*x0*x1^2 + 2*x0*x1, x0*x1^2 - x1^3 - x0*x1 + x1^2]\n",
      "Output G (partial sums): x1^2 - x1\n"
     ]
    }
   ],
   "source": [
    "problem_generator = GCDProblemGenerator(sampler)\n",
    "dataset_generator = DatasetGenerator(ring=ring, n_jobs=1, verbose=False, root_seed=2025)\n",
    "\n",
    "# Single sample\n",
    "F, g = problem_generator(seed=123)\n",
    "print(\"Inputs F:\", F)\n",
    "print(\"Target g:\", g)"
   ]
  },
  {
   "cell_type": "markdown",
   "metadata": {},
   "source": [
    "## 6. Generate a Tiny Dataset"
   ]
  },
  {
   "cell_type": "code",
   "execution_count": 24,
   "metadata": {},
   "outputs": [
    {
     "data": {
      "text/plain": [
       "{'total_time': 0.009609460830688477,\n",
       " 'samples_per_second': 2081.2822230492493,\n",
       " 'num_samples': 20,\n",
       " 'generation_time': {'mean': 0.00045791864395141604,\n",
       "  'std': 0.00012987409280385738,\n",
       "  'min': 0.00032973289489746094,\n",
       "  'max': 0.0008177757263183594},\n",
       " 'input_polynomials_overall': {'num_polynomials': {'mean': 2.0,\n",
       "   'std': 0.0,\n",
       "   'min': 2.0,\n",
       "   'max': 2.0},\n",
       "  'total_degree': {'mean': 7.2,\n",
       "   'std': 2.4617067250182343,\n",
       "   'min': 4.0,\n",
       "   'max': 12.0},\n",
       "  'total_terms': {'mean': 10.0,\n",
       "   'std': 7.063993204979744,\n",
       "   'min': 2.0,\n",
       "   'max': 27.0},\n",
       "  'max_degree': {'mean': 3.95,\n",
       "   'std': 1.2835497652993437,\n",
       "   'min': 2.0,\n",
       "   'max': 6.0},\n",
       "  'min_degree': {'mean': 3.25,\n",
       "   'std': 1.2599603168354152,\n",
       "   'min': 2.0,\n",
       "   'max': 6.0},\n",
       "  'max_terms': {'mean': 6.1,\n",
       "   'std': 3.9736632972611057,\n",
       "   'min': 1.0,\n",
       "   'max': 14.0},\n",
       "  'min_terms': {'mean': 3.9,\n",
       "   'std': 3.3600595232822887,\n",
       "   'min': 1.0,\n",
       "   'max': 13.0},\n",
       "  'max_coeff': {'mean': 5.55,\n",
       "   'std': 0.5894913061275798,\n",
       "   'min': 4.0,\n",
       "   'max': 6.0},\n",
       "  'min_coeff': {'mean': 1.45,\n",
       "   'std': 0.9733961166965892,\n",
       "   'min': 1.0,\n",
       "   'max': 5.0},\n",
       "  'density': {'mean': 0.1963700396825397,\n",
       "   'std': 0.1012441715679377,\n",
       "   'min': 0.061224489795918366,\n",
       "   'max': 0.4}},\n",
       " 'output_polynomials_overall': {'num_polynomials': {'mean': 1.0,\n",
       "   'std': 0.0,\n",
       "   'min': 1.0,\n",
       "   'max': 1.0},\n",
       "  'total_degree': {'mean': 1.85,\n",
       "   'std': 0.8529361054615991,\n",
       "   'min': 1.0,\n",
       "   'max': 3.0},\n",
       "  'total_terms': {'mean': 2.25,\n",
       "   'std': 1.299038105676658,\n",
       "   'min': 1.0,\n",
       "   'max': 5.0},\n",
       "  'max_degree': {'mean': 1.85,\n",
       "   'std': 0.8529361054615991,\n",
       "   'min': 1.0,\n",
       "   'max': 3.0},\n",
       "  'min_degree': {'mean': 1.85,\n",
       "   'std': 0.8529361054615991,\n",
       "   'min': 1.0,\n",
       "   'max': 3.0},\n",
       "  'max_terms': {'mean': 2.25,\n",
       "   'std': 1.299038105676658,\n",
       "   'min': 1.0,\n",
       "   'max': 5.0},\n",
       "  'min_terms': {'mean': 2.25,\n",
       "   'std': 1.299038105676658,\n",
       "   'min': 1.0,\n",
       "   'max': 5.0},\n",
       "  'max_coeff': {'mean': 2.8,\n",
       "   'std': 1.9646882704388502,\n",
       "   'min': 1.0,\n",
       "   'max': 6.0},\n",
       "  'min_coeff': {'mean': 1.0, 'std': 0.0, 'min': 1.0, 'max': 1.0},\n",
       "  'density': {'mean': 0.30104166666666665,\n",
       "   'std': 0.16717623202480772,\n",
       "   'min': 0.0625,\n",
       "   'max': 0.75}}}"
      ]
     },
     "execution_count": 24,
     "metadata": {},
     "output_type": "execute_result"
    }
   ],
   "source": [
    "samples, stats = dataset_generator.run(\n",
    "    num_samples=20, train=True, problem_generator=problem_generator\n",
    ")\n",
    "stats"
   ]
  },
  {
   "cell_type": "code",
   "execution_count": 25,
   "metadata": {},
   "outputs": [
    {
     "name": "stdout",
     "output_type": "stream",
     "text": [
      "--- Sample 0 ---\n",
      "F: [-x0*x1^2 + 2*x0*x1, -2*x0*x1^2]\n",
      "G: x0*x1\n",
      "--- Sample 1 ---\n",
      "F: [-3*x0^3 + 3*x0^2 + 3*x0*x1 - 3*x1, 3*x0*x1 - 2*x0 - 3*x1 + 2]\n",
      "G: x0 - 1\n",
      "--- Sample 2 ---\n",
      "F: [-3*x0*x1^3 + x0^2*x1 - 3*x0*x1^2 - x1^3 - x0*x1 - x1^2 - 2*x0 - 2*x1 - 3, -x1^5 - 2*x0*x1^3 - x1^4 - 2*x1^3 - 3*x1^2]\n",
      "G: x1^3 + 2*x0*x1 + x1^2 + 2*x1 + 3\n"
     ]
    }
   ],
   "source": [
    "# Show first three examples\n",
    "for i, (F_i, g_i) in enumerate(samples[:3]):\n",
    "    print(f\"--- Sample {i} ---\")\n",
    "    print(\"F:\", F_i)\n",
    "    print(\"g:\", g_i)"
   ]
  },
  {
   "cell_type": "markdown",
   "metadata": {},
   "source": [
    "Change the ring, sampler hyper‑parameters, or swap in a different generator class,\n",
    "and you immediately get a new task‑specific dataset — **no other code changes needed**."
   ]
  },
  {
   "cell_type": "code",
   "execution_count": 5,
   "metadata": {},
   "outputs": [
    {
     "name": "stderr",
     "output_type": "stream",
     "text": [
      "[Parallel(n_jobs=1)]: Done  49 tasks      | elapsed:    0.0s\n",
      "[Parallel(n_jobs=1)]: Done 199 tasks      | elapsed:    0.0s\n",
      "[Parallel(n_jobs=1)]: Done 449 tasks      | elapsed:    0.1s\n",
      "[Parallel(n_jobs=1)]: Done 799 tasks      | elapsed:    0.1s\n",
      "[Parallel(n_jobs=1)]: Done 1249 tasks      | elapsed:    0.2s\n",
      "[Parallel(n_jobs=1)]: Done 1799 tasks      | elapsed:    0.3s\n",
      "[Parallel(n_jobs=1)]: Done 2449 tasks      | elapsed:    0.4s\n",
      "[Parallel(n_jobs=1)]: Done 3199 tasks      | elapsed:    0.5s\n",
      "[Parallel(n_jobs=1)]: Done 4049 tasks      | elapsed:    0.7s\n",
      "[Parallel(n_jobs=1)]: Done 4999 tasks      | elapsed:    0.8s\n",
      "[Parallel(n_jobs=1)]: Done 6049 tasks      | elapsed:    1.0s\n",
      "[Parallel(n_jobs=1)]: Done 7199 tasks      | elapsed:    1.2s\n",
      "[Parallel(n_jobs=1)]: Done 8449 tasks      | elapsed:    2.8s\n",
      "[Parallel(n_jobs=1)]: Done 9799 tasks      | elapsed:    3.1s\n",
      "[Parallel(n_jobs=1)]: Done 11249 tasks      | elapsed:    3.3s\n",
      "[Parallel(n_jobs=1)]: Done 12799 tasks      | elapsed:    3.5s\n",
      "[Parallel(n_jobs=1)]: Done 14449 tasks      | elapsed:    3.8s\n",
      "[Parallel(n_jobs=1)]: Done 16199 tasks      | elapsed:    4.1s\n",
      "[Parallel(n_jobs=1)]: Done 18049 tasks      | elapsed:    4.4s\n",
      "[Parallel(n_jobs=1)]: Done 19999 tasks      | elapsed:    4.7s\n",
      "[Parallel(n_jobs=1)]: Done 22049 tasks      | elapsed:    5.1s\n",
      "[Parallel(n_jobs=1)]: Done 24199 tasks      | elapsed:    5.4s\n",
      "[Parallel(n_jobs=1)]: Done 26449 tasks      | elapsed:    5.8s\n",
      "[Parallel(n_jobs=1)]: Done 28799 tasks      | elapsed:    6.2s\n",
      "[Parallel(n_jobs=1)]: Done 31249 tasks      | elapsed:    6.6s\n",
      "[Parallel(n_jobs=1)]: Done 33799 tasks      | elapsed:    7.0s\n",
      "[Parallel(n_jobs=1)]: Done 36449 tasks      | elapsed:    7.4s\n",
      "[Parallel(n_jobs=1)]: Done 39199 tasks      | elapsed:    9.4s\n",
      "[Parallel(n_jobs=1)]: Done 42049 tasks      | elapsed:    9.9s\n",
      "[Parallel(n_jobs=1)]: Done 44999 tasks      | elapsed:   10.4s\n",
      "[Parallel(n_jobs=1)]: Done 48049 tasks      | elapsed:   10.9s\n",
      "[Parallel(n_jobs=1)]: Done 51199 tasks      | elapsed:   11.4s\n",
      "[Parallel(n_jobs=1)]: Done 54449 tasks      | elapsed:   12.0s\n",
      "[Parallel(n_jobs=1)]: Done 57799 tasks      | elapsed:   12.5s\n",
      "[Parallel(n_jobs=1)]: Done 61249 tasks      | elapsed:   13.1s\n",
      "[Parallel(n_jobs=1)]: Done 64799 tasks      | elapsed:   13.7s\n",
      "[Parallel(n_jobs=1)]: Done 68449 tasks      | elapsed:   14.3s\n",
      "[Parallel(n_jobs=1)]: Done 72199 tasks      | elapsed:   14.9s\n",
      "[Parallel(n_jobs=1)]: Done 76049 tasks      | elapsed:   17.5s\n",
      "[Parallel(n_jobs=1)]: Done 79999 tasks      | elapsed:   18.1s\n",
      "[Parallel(n_jobs=1)]: Done 84049 tasks      | elapsed:   18.8s\n",
      "[Parallel(n_jobs=1)]: Done 88199 tasks      | elapsed:   19.5s\n",
      "[Parallel(n_jobs=1)]: Done 92449 tasks      | elapsed:   20.3s\n",
      "[Parallel(n_jobs=1)]: Done 96799 tasks      | elapsed:   21.0s\n",
      "[Parallel(n_jobs=1)]: Done 100000 out of 100000 | elapsed:   21.5s finished\n",
      "[Parallel(n_jobs=1)]: Done  49 tasks      | elapsed:    0.0s\n",
      "[Parallel(n_jobs=1)]: Done 199 tasks      | elapsed:    0.0s\n",
      "[Parallel(n_jobs=1)]: Done 449 tasks      | elapsed:    0.1s\n",
      "[Parallel(n_jobs=1)]: Done 799 tasks      | elapsed:    0.1s\n",
      "[Parallel(n_jobs=1)]: Done 1000 out of 1000 | elapsed:    0.2s finished\n"
     ]
    }
   ],
   "source": [
    "save_dir = \"dataset/partial_sum_problem/GF7_n=2\"\n",
    "\n",
    "# set up polynomial ring\n",
    "R, *gens = ring(\"x0,x1\", GF(7), order=\"grevlex\")\n",
    "# Initialize polynomial sampler\n",
    "sampler = PolynomialSampler(\n",
    "    ring=R,\n",
    "    max_num_terms=5,\n",
    "    max_degree=10,\n",
    "    min_degree=1,\n",
    "    degree_sampling=\"uniform\",  # \"uniform\" or \"fixed\"\n",
    "    term_sampling=\"uniform\",  # \"uniform\" or \"fixed\"\n",
    "    max_coeff=None,  # Used for RR and ZZ\n",
    "    num_bound=None,  # Used for QQ\n",
    "    strictly_conditioned=False,\n",
    "    nonzero_instance=True,\n",
    ")\n",
    "# Initialize problem generator\n",
    "problem_generator = PartialSumProblemGenerator(\n",
    "    sampler=sampler,\n",
    "    max_polynomials=5,\n",
    "    min_polynomials=2,\n",
    ")\n",
    "# Initialize statistics calculator\n",
    "statistics_calculator = PolyStatisticsCalculator(ring=R)\n",
    "# Initialize dataset generator\n",
    "dataset_generator = DatasetGenerator(\n",
    "    ring=R,\n",
    "    backend=\"multiprocessing\",\n",
    "    n_jobs=1,  # warning \n",
    "    verbose=True,\n",
    "    root_seed=100,\n",
    ")\n",
    "# Generate training set\n",
    "train_samples, train_stats = dataset_generator.run(\n",
    "    train=True,\n",
    "    num_samples=100000,\n",
    "    problem_generator=problem_generator,\n",
    "    statistics_calculator=statistics_calculator,\n",
    ")\n",
    "# Generate test set\n",
    "test_samples, test_stats = dataset_generator.run(\n",
    "    train=False,\n",
    "    num_samples=1000,\n",
    "    problem_generator=problem_generator,\n",
    "    statistics_calculator=statistics_calculator,\n",
    ")\n",
    "# Initialize writer\n",
    "dataset_writer = DatasetWriter(save_dir)\n",
    "# Save datasets\n",
    "dataset_writer.save_dataset(train_samples, train_stats, \"train\")\n",
    "dataset_writer.save_dataset(test_samples, test_stats, \"test\")"
   ]
  },
  {
   "cell_type": "code",
   "execution_count": null,
   "metadata": {},
   "outputs": [],
   "source": []
  }
 ],
 "metadata": {
  "kernelspec": {
   "display_name": ".venv",
   "language": "python",
   "name": "python3"
  },
  "language_info": {
   "codemirror_mode": {
    "name": "ipython",
    "version": 3
   },
   "file_extension": ".py",
   "mimetype": "text/x-python",
   "name": "python",
   "nbconvert_exporter": "python",
   "pygments_lexer": "ipython3",
   "version": "3.12.9"
  }
 },
 "nbformat": 4,
 "nbformat_minor": 2
}
