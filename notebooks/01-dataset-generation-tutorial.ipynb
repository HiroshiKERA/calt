{
 "cells": [
  {
   "cell_type": "markdown",
   "metadata": {},
   "source": [
    "# Polynomial GCD Dataset — Minimal Example\n",
    "\n",
    "This notebook shows how **easy** it is to plug a custom *problem generator* into the\n",
    "`calt` data pipeline.  \n",
    "Instead of the built‑in `SumProblemGenerator`, we define our own `GCDProblemGenerator`\n",
    "directly in the notebook, import the rest of the library, and instantly obtain a toy dataset."
   ]
  },
  {
   "cell_type": "markdown",
   "metadata": {},
   "source": [
    "## 1. Imports"
   ]
  },
  {
   "cell_type": "code",
   "execution_count": 1,
   "metadata": {},
   "outputs": [
    {
     "name": "stderr",
     "output_type": "stream",
     "text": [
      "/home/ara_shun/workspace/calt/.venv/lib/python3.12/site-packages/tqdm/auto.py:21: TqdmWarning: IProgress not found. Please update jupyter and ipywidgets. See https://ipywidgets.readthedocs.io/en/stable/user_install.html\n",
      "  from .autonotebook import tqdm as notebook_tqdm\n"
     ]
    }
   ],
   "source": [
    "from typing import Any, List, Tuple, Dict, Union\n",
    "import random\n",
    "from sympy import GF, QQ, RR, ZZ\n",
    "from sympy.polys.rings import ring, PolyRing, PolyElement\n",
    "from calt.generator.sympy import (\n",
    "    PolynomialSampler,\n",
    "    DatasetGenerator,\n",
    "    BaseStatisticsCalculator,\n",
    ")"
   ]
  },
  {
   "cell_type": "markdown",
   "metadata": {},
   "source": [
    "## 2. Define a Polynomial Ring"
   ]
  },
  {
   "cell_type": "code",
   "execution_count": 2,
   "metadata": {},
   "outputs": [
    {
     "data": {
      "text/latex": [
       "$\\displaystyle \\mathtt{\\text{Polynomial ring in x, y over GF(7) with grevlex order}}$"
      ],
      "text/plain": [
       "Polynomial ring in x, y over GF(7) with grevlex order"
      ]
     },
     "execution_count": 2,
     "metadata": {},
     "output_type": "execute_result"
    }
   ],
   "source": [
    "# GF(7) with 2 variables x,y\n",
    "R, *gens = ring(\"x,y\", GF(7), order=\"grevlex\")\n",
    "R"
   ]
  },
  {
   "cell_type": "markdown",
   "metadata": {},
   "source": [
    "## 3. Build a Polynomial Sampler"
   ]
  },
  {
   "cell_type": "code",
   "execution_count": 3,
   "metadata": {},
   "outputs": [],
   "source": [
    "sampler = PolynomialSampler(\n",
    "    ring=R,\n",
    "    max_num_terms=5,\n",
    "    max_degree=10,\n",
    "    min_degree=1,\n",
    "    degree_sampling=\"uniform\",  # \"uniform\" or \"fixed\"\n",
    "    term_sampling=\"uniform\",  # \"uniform\" or \"fixed\"\n",
    "    max_coeff=None,  # Used for RR and ZZ\n",
    "    num_bound=None,  # Used for QQ\n",
    "    strictly_conditioned=False,\n",
    "    nonzero_instance=True,\n",
    ")"
   ]
  },
  {
   "cell_type": "markdown",
   "metadata": {},
   "source": [
    "### PolynomialSampler's Parameters\n",
    "\n",
    "#### Basic Parameters\n",
    "\n",
    "`ring: PolyRing`  \n",
    "- A SymPy polynomial ring used for generating polynomials  \n",
    "- Specifies the coefficient field and variables  \n",
    "\n",
    "`max_num_terms: int = 10`  \n",
    "- The maximum number of terms in a generated polynomial  \n",
    "- Default value is 10  \n",
    "\n",
    "`max_degree: int = 5`  \n",
    "- The maximum degree of a generated polynomial  \n",
    "- Default value is 5  \n",
    "\n",
    "`min_degree: int = 0`  \n",
    "- The minimum degree of a generated polynomial  \n",
    "- Default value is 0  \n",
    "\n",
    "#### Sampling Method Parameters\n",
    "\n",
    "`degree_sampling: str = \"uniform\"`  \n",
    "- Specifies how to sample the degree of a monomial  \n",
    "- Options:  \n",
    "  - `\"uniform\"`: First choose a degree uniformly at random, then choose a monomial of that degree  \n",
    "  - `\"fixed\"`: Choose monomials uniformly at random from all possible monomials up to degree `d` (higher-degree monomials are more likely to be chosen)  \n",
    "\n",
    "`term_sampling: str = \"uniform\"`  \n",
    "- Specifies how to sample the number of terms  \n",
    "- Options:  \n",
    "  - `\"uniform\"`: Choose the number of terms uniformly at random between 1 and `max_num_terms`  \n",
    "  - `\"fixed\"`: Always generate exactly `max_num_terms` terms  \n",
    "\n",
    "#### Coefficient Parameters\n",
    "\n",
    "`max_coeff: Optional[int] = None`  \n",
    "- The maximum absolute value of coefficients (used for `RR` and `ZZ`)  \n",
    "- Default value is 10  \n",
    "\n",
    "`num_bound: Optional[int] = None`  \n",
    "- The maximum absolute value of the numerator and denominator in rational coefficients (`QQ`)  \n",
    "- Default value is 10  \n",
    "\n",
    "#### Constraint Parameters\n",
    "\n",
    "`strictly_conditioned: bool = True`  \n",
    "- Whether to generate only polynomials that strictly satisfy the specified conditions  \n",
    "- When `True`:  \n",
    "  - Generates only polynomials that exactly match the specified degree and number of terms  \n",
    "  - Retries generation if the conditions are not met  \n",
    "- When `False`:  \n",
    "  - Generates polynomials with relaxed conditions  \n",
    "\n",
    "`nonzero_instance: bool = False`  \n",
    "- Whether to generate only non-zero polynomials  \n",
    "- When `True`: Never generates the zero polynomial  \n",
    "- When `False`: May generate the zero polynomial  \n"
   ]
  },
  {
   "cell_type": "markdown",
   "metadata": {},
   "source": [
    "## 4. Write a **custom** `GCDProblemGenerator`"
   ]
  },
  {
   "cell_type": "markdown",
   "metadata": {},
   "source": [
    "**Key idea:** The generator is simply a *callable* that returns `(input, target)`.  \n",
    "If it follows this contract, it can automatically generate samples."
   ]
  },
  {
   "cell_type": "code",
   "execution_count": 4,
   "metadata": {},
   "outputs": [],
   "source": [
    "class GCDProblemGenerator:\n",
    "    \"\"\"\n",
    "    Problem generator for polynomial GCD problems.\n",
    "\n",
    "    This generator creates problems in which the input is a pair of polynomials F = [f_1, f_2],\n",
    "    and the output is a single polynomial g = GCD(f_1, f_2).\n",
    "    \"\"\"\n",
    "\n",
    "    def __init__(self, sampler: PolynomialSampler):\n",
    "        \"\"\"\n",
    "        Initialize polynomial GCD generator.\n",
    "\n",
    "        Args:\n",
    "            sampler: Polynomial sampler\n",
    "        \"\"\"\n",
    "        self.sampler = sampler\n",
    "\n",
    "    def __call__(self, seed: int) -> Tuple[List[PolyElement], PolyElement]:\n",
    "        \"\"\"\n",
    "        Generate a single sample.\n",
    "\n",
    "        Each sample consists of:\n",
    "        - Input polynomial system F\n",
    "        - Output polynomial g (GCD of F)\n",
    "\n",
    "        Args:\n",
    "            seed: Seed for random number generator\n",
    "\n",
    "        Returns:\n",
    "            Tuple containing (F, g)\n",
    "        \"\"\"\n",
    "        random.seed(seed)\n",
    "\n",
    "        # Generate input polynomials using sampler\n",
    "        base_gcd, q1, q2 = self.sampler.sample(num_samples=3)\n",
    "\n",
    "        # Generate output polynomial g (GCD of F)\n",
    "        extra = q1.gcd(q2)\n",
    "        new_gcd = base_gcd * extra\n",
    "        q1 = q1.quo(extra) # divide q1 by extra\n",
    "        q2 = q2.quo(extra) # divide q2 by extra\n",
    "\n",
    "        F = [new_gcd * q1, new_gcd * q2]\n",
    "        g = new_gcd.monic()\n",
    "\n",
    "        return F, g"
   ]
  },
  {
   "cell_type": "markdown",
   "metadata": {},
   "source": [
    "## 5. Write a **custom** `PolyStatisticsCalculator`"
   ]
  },
  {
   "cell_type": "markdown",
   "metadata": {},
   "source": [
    "**Key idea:** The calculator is a *callable* that takes `(input, target)` and returns a dictionary of statistics.  \n",
    "If it follows this contract, it can automatically compute comprehensive statistics for any polynomial system.\n",
    "\n",
    "<!-- ## Core Functionality\n",
    "- Takes polynomial inputs and outputs\n",
    "- Computes detailed statistics about:\n",
    "  - System size (number of polynomials)\n",
    "  - Degree distribution (sum/max/min total degrees)\n",
    "  - Term distribution (max/min terms)\n",
    "  - Coefficient properties (max/min coefficients)\n",
    "  - System density\n",
    "\n",
    "\n",
    "## Key Features\n",
    "- Handles different coefficient fields (QQ, RR, ZZ, GF)\n",
    "- Works with both single polynomials and polynomial systems\n",
    "- Provides comprehensive statistical analysis\n",
    "- Automatically adapts to different polynomial structures -->"
   ]
  },
  {
   "cell_type": "code",
   "execution_count": 5,
   "metadata": {},
   "outputs": [],
   "source": [
    "class PolyStatisticsCalculator(BaseStatisticsCalculator):\n",
    "    \"\"\"\n",
    "    Statistics calculator for polynomial problems.\n",
    "    \"\"\"\n",
    "\n",
    "    def __init__(self, ring: PolyRing):\n",
    "        \"\"\"\n",
    "        Initialize polynomial statistics calculator.\n",
    "\n",
    "        Args:\n",
    "            ring: Polynomial ring\n",
    "        \"\"\"\n",
    "        self.ring = ring\n",
    "        self.num_vars = ring.ngens\n",
    "        self.coeff_field = ring.domain\n",
    "\n",
    "    def __call__(\n",
    "        self,\n",
    "        input: Union[List[PolyElement], PolyElement],\n",
    "        target: Union[List[PolyElement], PolyElement],\n",
    "    ) -> Dict[str, Any]:\n",
    "        \"\"\"\n",
    "        Calculate statistics for a single generated sample.\n",
    "\n",
    "        Args:\n",
    "            input: Problem (a list of polynomials or a single polynomial)\n",
    "            target: Solution (a list of polynomials or a single polynomial)\n",
    "\n",
    "        Returns:\n",
    "            Dictionary containing statistics about the sample\n",
    "        \"\"\"\n",
    "\n",
    "        if isinstance(input, list):\n",
    "            input_stats = self.poly_system_stats(input)\n",
    "        else:\n",
    "            input_stats = self.poly_system_stats([input])\n",
    "        if isinstance(target, list):\n",
    "            output_stats = self.poly_system_stats(target)\n",
    "        else:\n",
    "            output_stats = self.poly_system_stats([target])\n",
    "\n",
    "        return {\n",
    "            \"input\": input_stats,\n",
    "            \"output\": output_stats,\n",
    "        }\n",
    "\n",
    "    def poly_system_stats(self, polys: List[PolyElement]) -> Dict[str, Any]:\n",
    "        \"\"\"\n",
    "        Calculate statistics for a list of polynomials.\n",
    "\n",
    "        Args:\n",
    "            polys: List of polynomials\n",
    "\n",
    "        Returns:\n",
    "            Dictionary containing statistical information about the polynomials\n",
    "        \"\"\"\n",
    "        num_polys = len(polys) # Number of polynomials in the system\n",
    "\n",
    "        if num_polys == 0:\n",
    "            return {\"num_polynomials\": 0, \"total_degree\": 0, \"total_terms\": 0}\n",
    "\n",
    "        degrees = [self.total_degree(p) for p in polys]\n",
    "        num_terms = [len(p.terms()) for p in polys]\n",
    "\n",
    "        coeffs = []\n",
    "        for p in polys:\n",
    "            if self.coeff_field == QQ:\n",
    "                # For QQ, consider both numerators and denominators\n",
    "                coeffs.extend([abs(float(c.numerator)) for c in p.coeffs()])\n",
    "                coeffs.extend([abs(float(c.denominator)) for c in p.coeffs()])\n",
    "            elif self.coeff_field == RR:\n",
    "                # For RR, take absolute values\n",
    "                coeffs.extend([abs(float(c)) for c in p.coeffs()])\n",
    "            elif self.coeff_field == ZZ:\n",
    "                # For ZZ, take absolute values\n",
    "                coeffs.extend([abs(int(c)) for c in p.coeffs()])\n",
    "            elif self.coeff_field.is_FiniteField:  # GF\n",
    "                # For finite fields, just take the values\n",
    "                coeffs.extend([int(c) for c in p.coeffs()])\n",
    "\n",
    "        stats = {\n",
    "            # System size statistics\n",
    "            \"num_polynomials\": num_polys, # Number of polynomials in the system\n",
    "            # Degree statistics\n",
    "            \"sum_total_degree\": sum(degrees), # Sum of total degrees of all polynomials in the system\n",
    "            \"max_total_degree\": max(degrees), # Maximum degree of any polynomial in the system\n",
    "            \"min_total_degree\": min(degrees), # Minimum degree of any polynomial in the system\n",
    "            # Term count statistics\n",
    "            \"sum_num_terms\": sum(num_terms), # Total number of terms across all polynomials in the system\n",
    "            \"max_num_terms\": max(num_terms), # Maximum number of terms in any polynomial in the system\n",
    "            \"min_num_terms\": min(num_terms), # Minimum number of terms in any polynomial in the system\n",
    "            # Coefficient statistics\n",
    "            \"max_abs_coeff\": max(coeffs) if coeffs else 0, # Maximum absolute coefficient value in the system\n",
    "            \"min_abs_coeff\": min(coeffs) if coeffs else 0, # Minimum absolute coefficient value in the system\n",
    "            # Additional system properties\n",
    "            \"density\": float(sum(num_terms)) / (num_polys * (1 + max(degrees)) ** self.num_vars), # Density of the system (ratio of total terms to maximum possible terms))\n",
    "        }\n",
    "\n",
    "        return stats\n",
    "\n",
    "    def total_degree(self, poly: PolyElement) -> int:\n",
    "        \"\"\"Compute total degree of a polynomial.\n",
    "\n",
    "        The total degree of a polynomial is the maximum sum of exponents among all \n",
    "        monomials in the polynomial. For example, in x**2*y + x*y, the total degree\n",
    "        is 3 (from x**2*y where 2+1=3).\n",
    "        \n",
    "        Args:\n",
    "            poly: Polynomial\n",
    "\n",
    "        Returns:\n",
    "            Total degree of the polynomial\n",
    "\n",
    "        Examples:\n",
    "            >>> R, x, y = ring(\"x,y\", ZZ)\n",
    "            >>> calc = PolyStatisticsCalculator(R)\n",
    "            >>> p = x**2*y + x*y**2 + x + y\n",
    "            >>> calc.total_degree(p)\n",
    "            3\n",
    "        \"\"\"\n",
    "        if poly.is_zero:\n",
    "            return 0\n",
    "        else:\n",
    "            return max(list(sum(monom) for monom in poly.monoms()))"
   ]
  },
  {
   "cell_type": "markdown",
   "metadata": {},
   "source": [
    "## 6. Create Data & Inspect a Sample"
   ]
  },
  {
   "cell_type": "code",
   "execution_count": 6,
   "metadata": {},
   "outputs": [
    {
     "name": "stdout",
     "output_type": "stream",
     "text": [
      "Inputs F: [6 mod 7*x*y + 5 mod 7*x + 6 mod 7*y + 5 mod 7, 2 mod 7*x**2*y**2 + 2 mod 7*x*y**2 + 5 mod 7*x**2 + 2 mod 7*x + 4 mod 7]\n",
      "Target g: x + 1 mod 7\n"
     ]
    }
   ],
   "source": [
    "# Initialize problem generator\n",
    "problem_generator = GCDProblemGenerator(sampler=sampler)\n",
    "\n",
    "# Single sample\n",
    "F, g = problem_generator(seed=123)\n",
    "print(\"Inputs F:\", F)\n",
    "print(\"Target g:\", g)"
   ]
  },
  {
   "cell_type": "markdown",
   "metadata": {},
   "source": [
    "## 7. Generate a Tiny Dataset"
   ]
  },
  {
   "cell_type": "markdown",
   "metadata": {},
   "source": [
    "### Initialize dataset generator"
   ]
  },
  {
   "cell_type": "code",
   "execution_count": 7,
   "metadata": {},
   "outputs": [],
   "source": [
    "dataset_generator = DatasetGenerator(\n",
    "    backend=\"multiprocessing\",\n",
    "    n_jobs=1,  # warning: the current version with Sympy backend only supports n_jobs=1.\n",
    "    verbose=True, # Whether to print progress.\n",
    "    root_seed=100, # Seed for random number generator.\n",
    ")\n"
   ]
  },
  {
   "cell_type": "markdown",
   "metadata": {},
   "source": [
    "### Initialize statistics calculator"
   ]
  },
  {
   "cell_type": "code",
   "execution_count": 8,
   "metadata": {},
   "outputs": [],
   "source": [
    "statistics_calculator = PolyStatisticsCalculator(ring=R)"
   ]
  },
  {
   "cell_type": "markdown",
   "metadata": {},
   "source": [
    "### Generate training set"
   ]
  },
  {
   "cell_type": "code",
   "execution_count": 9,
   "metadata": {},
   "outputs": [
    {
     "name": "stderr",
     "output_type": "stream",
     "text": [
      "[Parallel(n_jobs=1)]: Done  20 out of  20 | elapsed:    0.0s finished\n"
     ]
    }
   ],
   "source": [
    "samples, stats = dataset_generator.run(\n",
    "    train=True, # Whether to generate training set.\n",
    "    num_samples=20, # Number of samples to generate.\n",
    "    problem_generator=problem_generator, # Problem generator for polynomial GCD problems.\n",
    "    statistics_calculator=statistics_calculator, # Statistics calculator for polynomial problems.\n",
    ")"
   ]
  },
  {
   "cell_type": "markdown",
   "metadata": {},
   "source": [
    "### Show first three examples"
   ]
  },
  {
   "cell_type": "code",
   "execution_count": 9,
   "metadata": {},
   "outputs": [
    {
     "name": "stdout",
     "output_type": "stream",
     "text": [
      "--- Sample 0 ---\n",
      "F: [3 mod 7*x**7 + 4 mod 7*x**6 + 5 mod 7*x**5*y + x**5 + 6 mod 7*x**3 + 5 mod 7*x**2 + 3 mod 7*x*y + 5 mod 7*x + 2 mod 7*y + 6 mod 7, 4 mod 7*x**5*y**5 + 6 mod 7*x**8*y + 5 mod 7*x**7*y**2 + 2 mod 7*x**7 + x*y**5 + 3 mod 7*x**5 + 5 mod 7*x**4*y + 3 mod 7*x**3*y**2 + 3 mod 7*y**5 + x**3*y + 2 mod 7*x**2*y**2 + 4 mod 7*x**3 + 5 mod 7*x**2 + 6 mod 7*x + 4 mod 7]\n",
      "g: x**5 + 2 mod 7*x + 6 mod 7\n",
      "--- Sample 1 ---\n",
      "F: [4 mod 7*x**7 + 5 mod 7*x**5*y**2 + x**2*y**5 + 3 mod 7*y**7 + 5 mod 7*x**6 + 5 mod 7*x**5*y + 3 mod 7*x*y**5 + 3 mod 7*y**6 + 2 mod 7*x**5 + 4 mod 7*y**5, 2 mod 7*x**8 + x**6*y**2 + 4 mod 7*x**3*y**5 + 2 mod 7*x*y**7 + 6 mod 7*x**5 + 5 mod 7*y**5]\n",
      "g: x**5 + 2 mod 7*y**5\n",
      "--- Sample 2 ---\n",
      "F: [x**3*y**2 + 3 mod 7*x**2*y**2, x*y + 3 mod 7*y]\n",
      "g: x*y + 3 mod 7*y\n"
     ]
    }
   ],
   "source": [
    "for i, (F_i, g_i) in enumerate(samples[:3]):\n",
    "    print(f\"--- Sample {i} ---\")\n",
    "    print(\"F:\", F_i)\n",
    "    print(\"g:\", g_i)"
   ]
  },
  {
   "cell_type": "markdown",
   "metadata": {},
   "source": [
    "### Show statistics"
   ]
  },
  {
   "cell_type": "code",
   "execution_count": 12,
   "metadata": {},
   "outputs": [
    {
     "name": "stdout",
     "output_type": "stream",
     "text": [
      "total_time: 0.008996963500976562\n",
      "samples_per_second: 2222.9722281110876\n",
      "num_samples: 20\n",
      "generation_time:\n",
      "  mean: 0.00040371417999267577\n",
      "  std: 0.0004956771003782554\n",
      "  min: 8.034706115722656e-05\n",
      "  max: 0.002209901809692383\n",
      "input_overall:\n",
      "  num_polynomials:\n",
      "    mean: 2.0\n",
      "    std: 0.0\n",
      "    min: 2.0\n",
      "    max: 2.0\n",
      "  sum_total_degree:\n",
      "    mean: 14.05\n",
      "    std: 5.8006465156911595\n",
      "    min: 5.0\n",
      "    max: 29.0\n",
      "  max_total_degree:\n",
      "    mean: 8.35\n",
      "    std: 3.4967842369811724\n",
      "    min: 3.0\n",
      "    max: 17.0\n",
      "  min_total_degree:\n",
      "    mean: 5.7\n",
      "    std: 2.6095976701399777\n",
      "    min: 2.0\n",
      "    max: 12.0\n",
      "  sum_num_terms:\n",
      "    mean: 14.35\n",
      "    std: 8.266045003506816\n",
      "    min: 4.0\n",
      "    max: 32.0\n",
      "  max_num_terms:\n",
      "    mean: 9.25\n",
      "    std: 5.855552920092175\n",
      "    min: 2.0\n",
      "    max: 24.0\n",
      "  min_num_terms:\n",
      "    mean: 5.1\n",
      "    std: 3.160696125855822\n",
      "    min: 1.0\n",
      "    max: 12.0\n",
      "  max_abs_coeff:\n",
      "    mean: 5.7\n",
      "    std: 0.7810249675906654\n",
      "    min: 3.0\n",
      "    max: 6.0\n",
      "  min_abs_coeff:\n",
      "    mean: 1.2\n",
      "    std: 0.5099019513592785\n",
      "    min: 1.0\n",
      "    max: 3.0\n",
      "  density:\n",
      "    mean: 0.0953737837654754\n",
      "    std: 0.0670770292194781\n",
      "    min: 0.02\n",
      "    max: 0.3333333333333333\n",
      "output_overall:\n",
      "  num_polynomials:\n",
      "    mean: 1.0\n",
      "    std: 0.0\n",
      "    min: 1.0\n",
      "    max: 1.0\n",
      "  sum_total_degree:\n",
      "    mean: 4.05\n",
      "    std: 1.9098429254784282\n",
      "    min: 2.0\n",
      "    max: 8.0\n",
      "  max_total_degree:\n",
      "    mean: 4.05\n",
      "    std: 1.9098429254784282\n",
      "    min: 2.0\n",
      "    max: 8.0\n",
      "  min_total_degree:\n",
      "    mean: 4.05\n",
      "    std: 1.9098429254784282\n",
      "    min: 2.0\n",
      "    max: 8.0\n",
      "  sum_num_terms:\n",
      "    mean: 3.4\n",
      "    std: 2.3958297101421877\n",
      "    min: 1.0\n",
      "    max: 12.0\n",
      "  max_num_terms:\n",
      "    mean: 3.4\n",
      "    std: 2.3958297101421877\n",
      "    min: 1.0\n",
      "    max: 12.0\n",
      "  min_num_terms:\n",
      "    mean: 3.4\n",
      "    std: 2.3958297101421877\n",
      "    min: 1.0\n",
      "    max: 12.0\n",
      "  max_abs_coeff:\n",
      "    mean: 4.25\n",
      "    std: 1.7571283390805579\n",
      "    min: 1.0\n",
      "    max: 6.0\n",
      "  min_abs_coeff:\n",
      "    mean: 1.0\n",
      "    std: 0.0\n",
      "    min: 1.0\n",
      "    max: 1.0\n",
      "  density:\n",
      "    mean: 0.15858216805240616\n",
      "    std: 0.09053866483851607\n",
      "    min: 0.024691358024691357\n",
      "    max: 0.3333333333333333\n",
      "\n"
     ]
    }
   ],
   "source": [
    "import yaml\n",
    "print(yaml.dump(stats, sort_keys=False))"
   ]
  }
 ],
 "metadata": {
  "kernelspec": {
   "display_name": ".venv",
   "language": "python",
   "name": "python3"
  },
  "language_info": {
   "codemirror_mode": {
    "name": "ipython",
    "version": 3
   },
   "file_extension": ".py",
   "mimetype": "text/x-python",
   "name": "python",
   "nbconvert_exporter": "python",
   "pygments_lexer": "ipython3",
   "version": "3.12.9"
  }
 },
 "nbformat": 4,
 "nbformat_minor": 2
}
