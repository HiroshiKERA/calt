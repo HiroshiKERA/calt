{
 "cells": [
  {
   "cell_type": "code",
   "execution_count": null,
   "metadata": {},
   "outputs": [],
   "source": [
    "!pip install calt-x"
   ]
  },
  {
   "cell_type": "code",
   "execution_count": 1,
   "metadata": {},
   "outputs": [
    {
     "name": "stderr",
     "output_type": "stream",
     "text": [
      "/home/sato/workspace/calt/.venv/lib/python3.12/site-packages/tqdm/auto.py:21: TqdmWarning: IProgress not found. Please update jupyter and ipywidgets. See https://ipywidgets.readthedocs.io/en/stable/user_install.html\n",
      "  from .autonotebook import tqdm as notebook_tqdm\n",
      "/home/sato/workspace/calt/.venv/lib/python3.12/site-packages/calt/trainer/trainer.py:63: SyntaxWarning: invalid escape sequence '\\['\n",
      "  \"\"\"Run *greedy* or *beam search* generation on the evaluation set.\n",
      "/home/sato/workspace/calt/.venv/lib/python3.12/site-packages/calt/data_loader/data_loader.py:27: SyntaxWarning: invalid escape sequence '\\('\n",
      "  \"\"\"Create dataset, tokenizer and data-collator objects.\n"
     ]
    },
    {
     "data": {
      "text/plain": [
       "<torch._C.Generator at 0x14f5ac0b7350>"
      ]
     },
     "execution_count": 1,
     "metadata": {},
     "output_type": "execute_result"
    }
   ],
   "source": [
    "from typing import Any, List, Tuple, Dict, Union\n",
    "import random\n",
    "# Dataset Generation \n",
    "from sympy import GF, QQ, RR, ZZ\n",
    "from sympy.polys.rings import ring, PolyRing, PolyElement\n",
    "from transformers import BartConfig, BartForConditionalGeneration as Transformer\n",
    "from transformers import TrainingArguments\n",
    "from calt import (\n",
    "    PolynomialSampler,\n",
    "    DatasetGenerator,\n",
    "    DatasetWriter,\n",
    "    BaseStatisticsCalculator,\n",
    "    PolynomialTrainer,\n",
    "    data_loader,\n",
    ")\n",
    "from calt.data_loader.utils import (\n",
    "    load_eval_results,\n",
    "    parse_poly,\n",
    "    display_with_diff\n",
    ")\n",
    "import torch, random, numpy as np\n",
    "\n",
    "SEED = 42\n",
    "random.seed(SEED)\n",
    "np.random.seed(SEED)\n",
    "torch.manual_seed(SEED)"
   ]
  },
  {
   "cell_type": "code",
   "execution_count": 3,
   "metadata": {},
   "outputs": [],
   "source": [
    "class SumProblemGenerator:\n",
    "    \"\"\"\n",
    "    Problem generator for partial sum problems involving polynomials.\n",
    "\n",
    "    This generator generates problems in which the input is a list of polynomials F = [f_1, f_2, ..., f_n],\n",
    "    and the output is a list of polynomials G = [g_1, g_2, ..., g_n], where g_i = f_1 + f_2 + ... + f_i.\n",
    "    \"\"\"\n",
    "\n",
    "    def __init__(\n",
    "        self, sampler: PolynomialSampler, max_polynomials: int, min_polynomials: int\n",
    "    ):\n",
    "        \"\"\"\n",
    "        Initialize polynomial partial sum sampler.\n",
    "\n",
    "        Args:\n",
    "            sampler: Polynomial sampler\n",
    "            max_polynomials: Maximum number of polynomials in F\n",
    "            min_polynomials: Minimum number of polynomials in F\n",
    "        \"\"\"\n",
    "\n",
    "        self.sampler = sampler\n",
    "        self.max_polynomials = max_polynomials\n",
    "        self.min_polynomials = min_polynomials\n",
    "\n",
    "    def __call__(self, seed: int) -> Tuple[List[PolyElement], List[PolyElement]]:\n",
    "        \"\"\"\n",
    "        Generate a single sample.\n",
    "\n",
    "        Each sample consists of:\n",
    "        - Input polynomial system F\n",
    "        - Output polynomial system G (partial sums of F)\n",
    "\n",
    "        Args:\n",
    "            seed: Seed for random number generator\n",
    "\n",
    "        Returns:\n",
    "            Tuple containing (F, G)\n",
    "        \"\"\"\n",
    "\n",
    "        # Set random seed\n",
    "        random.seed(seed)\n",
    "\n",
    "        # Choose number of polynomials for this sample\n",
    "        num_polys = random.randint(self.min_polynomials, self.max_polynomials)\n",
    "\n",
    "        # Generate input polynomials using sampler\n",
    "        F = self.sampler.sample(num_samples=num_polys)\n",
    "\n",
    "        # Generate sums for output\n",
    "        current_sum = 0\n",
    "        for f in F:\n",
    "            current_sum += f\n",
    "\n",
    "        return F, current_sum\n",
    "    \n",
    "\n"
   ]
  },
  {
   "cell_type": "code",
   "execution_count": 4,
   "metadata": {},
   "outputs": [],
   "source": [
    "class PolyStatisticsCalculator(BaseStatisticsCalculator):\n",
    "    \"\"\"\n",
    "    Statistics calculator for polynomial problems.\n",
    "    \"\"\"\n",
    "\n",
    "    def __init__(self, ring: PolyRing):\n",
    "        \"\"\"\n",
    "        Initialize polynomial statistics calculator.\n",
    "\n",
    "        Args:\n",
    "            ring: Polynomial ring\n",
    "        \"\"\"\n",
    "        self.ring = ring\n",
    "        self.num_vars = ring.ngens\n",
    "        self.coeff_field = ring.domain\n",
    "\n",
    "    def __call__(\n",
    "        self,\n",
    "        problem_input: Union[List[PolyElement], PolyElement],\n",
    "        problem_output: Union[List[PolyElement], PolyElement],\n",
    "    ) -> Dict[str, Any]:\n",
    "        \"\"\"\n",
    "        Calculate statistics for a single generated sample.\n",
    "\n",
    "        Args:\n",
    "            problem_input: Input problem (a list of polynomials or a single polynomial)\n",
    "            problem_output: Output solution (a list of polynomials or a single polynomial)\n",
    "\n",
    "        Returns:\n",
    "            Dictionary containing statistics about the sample\n",
    "        \"\"\"\n",
    "\n",
    "        if isinstance(problem_input, list):\n",
    "            input_stats = self.poly_system_stats(problem_input)\n",
    "        else:\n",
    "            input_stats = self.poly_system_stats([problem_input])\n",
    "        if isinstance(problem_output, list):\n",
    "            output_stats = self.poly_system_stats(problem_output)\n",
    "        else:\n",
    "            output_stats = self.poly_system_stats([problem_output])\n",
    "\n",
    "        return {\n",
    "            \"input\": input_stats,\n",
    "            \"output\": output_stats,\n",
    "        }\n",
    "\n",
    "    def poly_system_stats(self, polys: List[PolyElement]) -> Dict[str, Any]:\n",
    "        \"\"\"\n",
    "        Calculate statistics for a list of polynomials.\n",
    "\n",
    "        Args:\n",
    "            polys: List of polynomials\n",
    "\n",
    "        Returns:\n",
    "            Dictionary containing statistical information about the polynomials\n",
    "        \"\"\"\n",
    "        num_polys = len(polys)\n",
    "\n",
    "        if num_polys == 0:\n",
    "            return {\"num_polynomials\": 0, \"total_degree\": 0, \"total_terms\": 0}\n",
    "\n",
    "        degrees = [self.total_degree(p) for p in polys]\n",
    "        num_terms = [len(p.terms()) for p in polys]\n",
    "\n",
    "        coeffs = []\n",
    "        for p in polys:\n",
    "            if self.coeff_field == QQ:\n",
    "                # For QQ, consider both numerators(分子) and denominators(分母)\n",
    "                coeffs.extend([abs(float(c.numerator)) for c in p.coeffs()])\n",
    "                coeffs.extend([abs(float(c.denominator)) for c in p.coeffs()])\n",
    "            elif self.coeff_field == RR:\n",
    "                # For RR, take absolute values\n",
    "                coeffs.extend([abs(float(c)) for c in p.coeffs()])\n",
    "            elif self.coeff_field == ZZ:\n",
    "                # For ZZ, take absolute values\n",
    "                coeffs.extend([abs(int(c)) for c in p.coeffs()])\n",
    "            elif self.coeff_field.is_FiniteField:  # GF\n",
    "                # For finite fields, just take the values\n",
    "                coeffs.extend([int(c) for c in p.coeffs()])\n",
    "\n",
    "        stats = {\n",
    "            # System size statistics\n",
    "            \"num_polynomials\": num_polys,\n",
    "            \"total_degree\": sum(degrees),\n",
    "            \"total_terms\": sum(num_terms),\n",
    "            # Degree statistics\n",
    "            \"max_degree\": max(degrees),\n",
    "            \"min_degree\": min(degrees),\n",
    "            # Term count statistics\n",
    "            \"max_terms\": max(num_terms),\n",
    "            \"min_terms\": min(num_terms),\n",
    "            # Coefficient statistics\n",
    "            \"max_coeff\": max(coeffs) if coeffs else 0,\n",
    "            \"min_coeff\": min(coeffs) if coeffs else 0,\n",
    "            # Additional system properties\n",
    "            \"density\": float(sum(num_terms))\n",
    "            / (num_polys * (1 + max(degrees)) ** self.num_vars),\n",
    "        }\n",
    "\n",
    "        return stats\n",
    "\n",
    "    def total_degree(self, poly: PolyElement) -> int:\n",
    "        \"\"\"Compute total degree of a polynomial\"\"\"\n",
    "        if poly.is_zero:\n",
    "            return 0\n",
    "        else:\n",
    "            return max(list(sum(monom) for monom in poly.monoms()))\n"
   ]
  },
  {
   "cell_type": "code",
   "execution_count": 5,
   "metadata": {},
   "outputs": [
    {
     "name": "stderr",
     "output_type": "stream",
     "text": [
      "[Parallel(n_jobs=1)]: Done  49 tasks      | elapsed:    0.0s\n",
      "[Parallel(n_jobs=1)]: Done 199 tasks      | elapsed:    0.0s\n",
      "[Parallel(n_jobs=1)]: Done 449 tasks      | elapsed:    0.1s\n",
      "[Parallel(n_jobs=1)]: Done 799 tasks      | elapsed:    0.1s\n",
      "[Parallel(n_jobs=1)]: Done 1249 tasks      | elapsed:    0.1s\n",
      "[Parallel(n_jobs=1)]: Done 1799 tasks      | elapsed:    0.2s\n",
      "[Parallel(n_jobs=1)]: Done 2449 tasks      | elapsed:    0.4s\n",
      "[Parallel(n_jobs=1)]: Done 3199 tasks      | elapsed:    0.4s\n",
      "[Parallel(n_jobs=1)]: Done 4049 tasks      | elapsed:    0.5s\n",
      "[Parallel(n_jobs=1)]: Done 4999 tasks      | elapsed:    0.5s\n",
      "[Parallel(n_jobs=1)]: Done 6049 tasks      | elapsed:    0.6s\n",
      "[Parallel(n_jobs=1)]: Done 7199 tasks      | elapsed:    0.7s\n",
      "[Parallel(n_jobs=1)]: Done 8449 tasks      | elapsed:    0.7s\n",
      "[Parallel(n_jobs=1)]: Done 9799 tasks      | elapsed:    0.8s\n",
      "[Parallel(n_jobs=1)]: Done 10000 out of 10000 | elapsed:    0.8s finished\n",
      "[Parallel(n_jobs=1)]: Done  49 tasks      | elapsed:    0.0s\n",
      "[Parallel(n_jobs=1)]: Done 199 tasks      | elapsed:    0.0s\n",
      "[Parallel(n_jobs=1)]: Done 449 tasks      | elapsed:    0.2s\n",
      "[Parallel(n_jobs=1)]: Done 799 tasks      | elapsed:    0.2s\n",
      "[Parallel(n_jobs=1)]: Done 1000 out of 1000 | elapsed:    0.2s finished\n"
     ]
    }
   ],
   "source": [
    "save_dir = \".\"\n",
    "\n",
    "# set up polynomial ring\n",
    "R, *gens = ring(\"x0,x1\", GF(7), order=\"grevlex\")\n",
    "# Initialize polynomial sampler\n",
    "sampler = PolynomialSampler(\n",
    "    ring=R,\n",
    "    max_num_terms=2,\n",
    "    max_degree=2,\n",
    "    min_degree=1,\n",
    "    degree_sampling=\"uniform\",  # \"uniform\" or \"fixed\"\n",
    "    term_sampling=\"uniform\",  # \"uniform\" or \"fixed\"\n",
    "    max_coeff=None,  # Used for RR and ZZ\n",
    "    num_bound=None,  # Used for QQ\n",
    "    strictly_conditioned=False,\n",
    "    nonzero_instance=True,\n",
    ")\n",
    "# Initialize problem generator\n",
    "problem_generator = SumProblemGenerator(\n",
    "    sampler=sampler,\n",
    "    max_polynomials=2,\n",
    "    min_polynomials=2,\n",
    ")\n",
    "# Initialize statistics calculator\n",
    "statistics_calculator = PolyStatisticsCalculator(ring=R)\n",
    "# Initialize dataset generator\n",
    "dataset_generator = DatasetGenerator(\n",
    "    ring=R,\n",
    "    backend=\"multiprocessing\",\n",
    "    n_jobs=1,  # warning \n",
    "    verbose=True,\n",
    "    root_seed=100,\n",
    ")\n",
    "# Generate training set\n",
    "train_samples, train_stats = dataset_generator.run(\n",
    "    train=True,\n",
    "    num_samples=10000,\n",
    "    problem_generator=problem_generator,\n",
    "    statistics_calculator=statistics_calculator,\n",
    ")\n",
    "# Generate test set\n",
    "test_samples, test_stats = dataset_generator.run(\n",
    "    train=False,\n",
    "    num_samples=1000,\n",
    "    problem_generator=problem_generator,\n",
    "    statistics_calculator=statistics_calculator,\n",
    ")\n",
    "# Initialize writer\n",
    "dataset_writer = DatasetWriter(save_dir)\n",
    "# Save datasets\n",
    "dataset_writer.save_dataset(train_samples, train_stats, \"train\")\n",
    "dataset_writer.save_dataset(test_samples, test_stats, \"test\")"
   ]
  },
  {
   "cell_type": "code",
   "execution_count": 6,
   "metadata": {},
   "outputs": [],
   "source": [
    "# Point to any dataset you like; here we assume the toy GCD dataset from the data‑generation notebook.\n",
    "TRAIN_PATH = \"train_raw.txt\"\n",
    "TEST_PATH = \"test_raw.txt\"\n",
    "dataset, tokenizer, data_collator = data_loader(\n",
    "    train_dataset_path=TRAIN_PATH,\n",
    "    test_dataset_path=TEST_PATH,\n",
    "    field=\"GF7\",\n",
    "    num_variables=2,\n",
    "    max_degree=10,\n",
    "    max_coeff=10,\n",
    "    max_length=256,\n",
    ")"
   ]
  },
  {
   "cell_type": "code",
   "execution_count": 33,
   "metadata": {},
   "outputs": [],
   "source": [
    "# Minimal architecture — only overriding d_model for speed.\n",
    "model_cfg = BartConfig(\n",
    "    d_model=256,\n",
    "    vocab_size=len(tokenizer.vocab),\n",
    "    encoder_layers=2,\n",
    "    decoder_layers=2,\n",
    "    max_position_embeddings=256,\n",
    "    pad_token_id=tokenizer.pad_token_id,\n",
    "    bos_token_id=tokenizer.bos_token_id,\n",
    "    eos_token_id=tokenizer.eos_token_id,\n",
    "    decoder_start_token_id=tokenizer.bos_token_id,\n",
    "    max_length=256,\n",
    ")\n",
    "model = Transformer(config=model_cfg)"
   ]
  },
  {
   "cell_type": "code",
   "execution_count": 26,
   "metadata": {},
   "outputs": [],
   "source": [
    "args = TrainingArguments(\n",
    "    output_dir=\"results/demo\",\n",
    "    num_train_epochs=20,\n",
    "    logging_steps=50,\n",
    "    per_device_train_batch_size=int(128),\n",
    "    per_device_eval_batch_size=int(128),\n",
    "    save_strategy=\"no\",  # skip checkpoints for the quick demo\n",
    "    seed=SEED,\n",
    "    remove_unused_columns=False,\n",
    "    label_names=[\"labels\"],\n",
    "    report_to=\"none\",\n",
    ")"
   ]
  },
  {
   "cell_type": "code",
   "execution_count": 27,
   "metadata": {},
   "outputs": [
    {
     "name": "stderr",
     "output_type": "stream",
     "text": [
      "/home/sato/workspace/calt/.venv/lib/python3.12/site-packages/torch/nn/parallel/_functions.py:71: UserWarning: Was asked to gather along dimension 0, but all input tensors were scalars; will instead unsqueeze and return a vector.\n",
      "  warnings.warn(\n"
     ]
    },
    {
     "data": {
      "text/html": [
       "\n",
       "    <div>\n",
       "      \n",
       "      <progress value='1000' max='1000' style='width:300px; height:20px; vertical-align: middle;'></progress>\n",
       "      [1000/1000 04:13, Epoch 1000/1000]\n",
       "    </div>\n",
       "    <table border=\"1\" class=\"dataframe\">\n",
       "  <thead>\n",
       " <tr style=\"text-align: left;\">\n",
       "      <th>Step</th>\n",
       "      <th>Training Loss</th>\n",
       "    </tr>\n",
       "  </thead>\n",
       "  <tbody>\n",
       "    <tr>\n",
       "      <td>50</td>\n",
       "      <td>0.958000</td>\n",
       "    </tr>\n",
       "    <tr>\n",
       "      <td>100</td>\n",
       "      <td>0.655000</td>\n",
       "    </tr>\n",
       "    <tr>\n",
       "      <td>150</td>\n",
       "      <td>0.538500</td>\n",
       "    </tr>\n",
       "    <tr>\n",
       "      <td>200</td>\n",
       "      <td>0.452600</td>\n",
       "    </tr>\n",
       "    <tr>\n",
       "      <td>250</td>\n",
       "      <td>0.384400</td>\n",
       "    </tr>\n",
       "    <tr>\n",
       "      <td>300</td>\n",
       "      <td>0.336700</td>\n",
       "    </tr>\n",
       "    <tr>\n",
       "      <td>350</td>\n",
       "      <td>0.296400</td>\n",
       "    </tr>\n",
       "    <tr>\n",
       "      <td>400</td>\n",
       "      <td>0.248000</td>\n",
       "    </tr>\n",
       "    <tr>\n",
       "      <td>450</td>\n",
       "      <td>0.179800</td>\n",
       "    </tr>\n",
       "    <tr>\n",
       "      <td>500</td>\n",
       "      <td>0.126700</td>\n",
       "    </tr>\n",
       "    <tr>\n",
       "      <td>550</td>\n",
       "      <td>0.097900</td>\n",
       "    </tr>\n",
       "    <tr>\n",
       "      <td>600</td>\n",
       "      <td>0.079800</td>\n",
       "    </tr>\n",
       "    <tr>\n",
       "      <td>650</td>\n",
       "      <td>0.067400</td>\n",
       "    </tr>\n",
       "    <tr>\n",
       "      <td>700</td>\n",
       "      <td>0.057900</td>\n",
       "    </tr>\n",
       "    <tr>\n",
       "      <td>750</td>\n",
       "      <td>0.050500</td>\n",
       "    </tr>\n",
       "    <tr>\n",
       "      <td>800</td>\n",
       "      <td>0.045400</td>\n",
       "    </tr>\n",
       "    <tr>\n",
       "      <td>850</td>\n",
       "      <td>0.041600</td>\n",
       "    </tr>\n",
       "    <tr>\n",
       "      <td>900</td>\n",
       "      <td>0.039000</td>\n",
       "    </tr>\n",
       "    <tr>\n",
       "      <td>950</td>\n",
       "      <td>0.037100</td>\n",
       "    </tr>\n",
       "    <tr>\n",
       "      <td>1000</td>\n",
       "      <td>0.036200</td>\n",
       "    </tr>\n",
       "  </tbody>\n",
       "</table><p>"
      ],
      "text/plain": [
       "<IPython.core.display.HTML object>"
      ]
     },
     "metadata": {},
     "output_type": "display_data"
    },
    {
     "name": "stderr",
     "output_type": "stream",
     "text": [
      "/home/sato/workspace/calt/.venv/lib/python3.12/site-packages/transformers/modeling_utils.py:3465: UserWarning: Moving the following attributes in the config to the generation config: {'max_length': 256}. You are seeing this warning because you've set generation parameters in the model config, as opposed to in the generation config.\n",
      "  warnings.warn(\n"
     ]
    },
    {
     "data": {
      "text/html": [
       "\n",
       "    <div>\n",
       "      \n",
       "      <progress value='1' max='1' style='width:300px; height:20px; vertical-align: middle;'></progress>\n",
       "      [1/1 : < :]\n",
       "    </div>\n",
       "    "
      ],
      "text/plain": [
       "<IPython.core.display.HTML object>"
      ]
     },
     "metadata": {},
     "output_type": "display_data"
    }
   ],
   "source": [
    "trainer = PolynomialTrainer(\n",
    "    args=args,\n",
    "    model=model,\n",
    "    processing_class=tokenizer,\n",
    "    data_collator=data_collator,\n",
    "    train_dataset=dataset[\"train\"],  # slice for speed\n",
    "    eval_dataset=dataset[\"test\"],\n",
    ")\n",
    "\n",
    "# train\n",
    "results = trainer.train()\n",
    "trainer.save_model()\n",
    "metrics = results.metrics\n",
    "\n",
    "# eval\n",
    "eval_metrics = trainer.evaluate()\n",
    "metrics.update(eval_metrics)\n",
    "acc = trainer.generate_evaluation(max_length=128)\n",
    "metrics[\"test_accuracy\"] = acc\n",
    "\n",
    "# save metrics\n",
    "trainer.save_metrics(\"all\", metrics)"
   ]
  },
  {
   "cell_type": "code",
   "execution_count": 4,
   "metadata": {},
   "outputs": [
    {
     "name": "stdout",
     "output_type": "stream",
     "text": [
      "===== Failure case: 160 =====\n"
     ]
    },
    {
     "data": {
      "text/latex": [
       "$\\displaystyle \\text{Gold:}\\; 5$"
      ],
      "text/plain": [
       "<IPython.core.display.Math object>"
      ]
     },
     "metadata": {},
     "output_type": "display_data"
    },
    {
     "data": {
      "text/latex": [
       "$\\displaystyle \\text{Predicted:}\\; \\cancel{5\\, y}$"
      ],
      "text/plain": [
       "<IPython.core.display.Math object>"
      ]
     },
     "metadata": {},
     "output_type": "display_data"
    },
    {
     "name": "stdout",
     "output_type": "stream",
     "text": [
      "===== Failure case: 178 =====\n"
     ]
    },
    {
     "data": {
      "text/latex": [
       "$\\displaystyle \\text{Gold:}\\; 4 x + 5 y + 4$"
      ],
      "text/plain": [
       "<IPython.core.display.Math object>"
      ]
     },
     "metadata": {},
     "output_type": "display_data"
    },
    {
     "data": {
      "text/latex": [
       "$\\displaystyle \\text{Predicted:}\\; 4\\, x +5\\, y$"
      ],
      "text/plain": [
       "<IPython.core.display.Math object>"
      ]
     },
     "metadata": {},
     "output_type": "display_data"
    },
    {
     "name": "stdout",
     "output_type": "stream",
     "text": [
      "===== Failure case: 181 =====\n"
     ]
    },
    {
     "data": {
      "text/latex": [
       "$\\displaystyle \\text{Gold:}\\; 1$"
      ],
      "text/plain": [
       "<IPython.core.display.Math object>"
      ]
     },
     "metadata": {},
     "output_type": "display_data"
    },
    {
     "data": {
      "text/latex": [
       "$\\displaystyle \\text{Predicted:}\\; \\cancel{y} +1$"
      ],
      "text/plain": [
       "<IPython.core.display.Math object>"
      ]
     },
     "metadata": {},
     "output_type": "display_data"
    },
    {
     "name": "stdout",
     "output_type": "stream",
     "text": [
      "===== Failure case: 195 =====\n"
     ]
    },
    {
     "data": {
      "text/latex": [
       "$\\displaystyle \\text{Gold:}\\; 2 y$"
      ],
      "text/plain": [
       "<IPython.core.display.Math object>"
      ]
     },
     "metadata": {},
     "output_type": "display_data"
    },
    {
     "data": {
      "text/latex": [
       "$\\displaystyle \\text{Predicted:}\\; \\cancel{2\\, x} +2\\, y$"
      ],
      "text/plain": [
       "<IPython.core.display.Math object>"
      ]
     },
     "metadata": {},
     "output_type": "display_data"
    },
    {
     "name": "stdout",
     "output_type": "stream",
     "text": [
      "===== Failure case: 205 =====\n"
     ]
    },
    {
     "data": {
      "text/latex": [
       "$\\displaystyle \\text{Gold:}\\; 2$"
      ],
      "text/plain": [
       "<IPython.core.display.Math object>"
      ]
     },
     "metadata": {},
     "output_type": "display_data"
    },
    {
     "data": {
      "text/latex": [
       "$\\displaystyle \\text{Predicted:}\\; \\cancel{2\\, y} +2$"
      ],
      "text/plain": [
       "<IPython.core.display.Math object>"
      ]
     },
     "metadata": {},
     "output_type": "display_data"
    },
    {
     "name": "stdout",
     "output_type": "stream",
     "text": [
      "===== Failure case: 235 =====\n"
     ]
    },
    {
     "data": {
      "text/latex": [
       "$\\displaystyle \\text{Gold:}\\; 4$"
      ],
      "text/plain": [
       "<IPython.core.display.Math object>"
      ]
     },
     "metadata": {},
     "output_type": "display_data"
    },
    {
     "data": {
      "text/latex": [
       "$\\displaystyle \\text{Predicted:}\\; \\cancel{4\\, y} +4$"
      ],
      "text/plain": [
       "<IPython.core.display.Math object>"
      ]
     },
     "metadata": {},
     "output_type": "display_data"
    },
    {
     "name": "stdout",
     "output_type": "stream",
     "text": [
      "===== Failure case: 295 =====\n"
     ]
    },
    {
     "data": {
      "text/latex": [
       "$\\displaystyle \\text{Gold:}\\; 4$"
      ],
      "text/plain": [
       "<IPython.core.display.Math object>"
      ]
     },
     "metadata": {},
     "output_type": "display_data"
    },
    {
     "data": {
      "text/latex": [
       "$\\displaystyle \\text{Predicted:}\\; \\cancel{4\\, x^{2}} +\\cancel{1}$"
      ],
      "text/plain": [
       "<IPython.core.display.Math object>"
      ]
     },
     "metadata": {},
     "output_type": "display_data"
    },
    {
     "name": "stdout",
     "output_type": "stream",
     "text": [
      "===== Failure case: 299 =====\n"
     ]
    },
    {
     "data": {
      "text/latex": [
       "$\\displaystyle \\text{Gold:}\\; 3 y$"
      ],
      "text/plain": [
       "<IPython.core.display.Math object>"
      ]
     },
     "metadata": {},
     "output_type": "display_data"
    },
    {
     "data": {
      "text/latex": [
       "$\\displaystyle \\text{Predicted:}\\; \\cancel{5\\, x\\, y} +y$"
      ],
      "text/plain": [
       "<IPython.core.display.Math object>"
      ]
     },
     "metadata": {},
     "output_type": "display_data"
    },
    {
     "name": "stdout",
     "output_type": "stream",
     "text": [
      "===== Failure case: 358 =====\n"
     ]
    },
    {
     "data": {
      "text/latex": [
       "$\\displaystyle \\text{Gold:}\\; 5 y$"
      ],
      "text/plain": [
       "<IPython.core.display.Math object>"
      ]
     },
     "metadata": {},
     "output_type": "display_data"
    },
    {
     "data": {
      "text/latex": [
       "$\\displaystyle \\text{Predicted:}\\; \\cancel{5\\, x} +5\\, y$"
      ],
      "text/plain": [
       "<IPython.core.display.Math object>"
      ]
     },
     "metadata": {},
     "output_type": "display_data"
    },
    {
     "name": "stdout",
     "output_type": "stream",
     "text": [
      "===== Failure case: 530 =====\n"
     ]
    },
    {
     "data": {
      "text/latex": [
       "$\\displaystyle \\text{Gold:}\\; 4$"
      ],
      "text/plain": [
       "<IPython.core.display.Math object>"
      ]
     },
     "metadata": {},
     "output_type": "display_data"
    },
    {
     "data": {
      "text/latex": [
       "$\\displaystyle \\text{Predicted:}\\; \\cancel{4\\, y} +4$"
      ],
      "text/plain": [
       "<IPython.core.display.Math object>"
      ]
     },
     "metadata": {},
     "output_type": "display_data"
    },
    {
     "name": "stdout",
     "output_type": "stream",
     "text": [
      "===== Failure case: 580 =====\n"
     ]
    },
    {
     "data": {
      "text/latex": [
       "$\\displaystyle \\text{Gold:}\\; 0$"
      ],
      "text/plain": [
       "<IPython.core.display.Math object>"
      ]
     },
     "metadata": {},
     "output_type": "display_data"
    },
    {
     "data": {
      "text/latex": [
       "$\\displaystyle \\text{Predicted:}\\; \\cancel{2\\, y}$"
      ],
      "text/plain": [
       "<IPython.core.display.Math object>"
      ]
     },
     "metadata": {},
     "output_type": "display_data"
    },
    {
     "name": "stdout",
     "output_type": "stream",
     "text": [
      "===== Failure case: 614 =====\n"
     ]
    },
    {
     "data": {
      "text/latex": [
       "$\\displaystyle \\text{Gold:}\\; 0$"
      ],
      "text/plain": [
       "<IPython.core.display.Math object>"
      ]
     },
     "metadata": {},
     "output_type": "display_data"
    },
    {
     "data": {
      "text/latex": [
       "$\\displaystyle \\text{Predicted:}\\; \\cancel{4\\, x^{2}}$"
      ],
      "text/plain": [
       "<IPython.core.display.Math object>"
      ]
     },
     "metadata": {},
     "output_type": "display_data"
    },
    {
     "name": "stdout",
     "output_type": "stream",
     "text": [
      "===== Failure case: 639 =====\n"
     ]
    },
    {
     "data": {
      "text/latex": [
       "$\\displaystyle \\text{Gold:}\\; 2$"
      ],
      "text/plain": [
       "<IPython.core.display.Math object>"
      ]
     },
     "metadata": {},
     "output_type": "display_data"
    },
    {
     "data": {
      "text/latex": [
       "$\\displaystyle \\text{Predicted:}\\; \\cancel{2\\, x\\, y} +\\cancel{x} +\\cancel{3}$"
      ],
      "text/plain": [
       "<IPython.core.display.Math object>"
      ]
     },
     "metadata": {},
     "output_type": "display_data"
    },
    {
     "name": "stdout",
     "output_type": "stream",
     "text": [
      "===== Failure case: 694 =====\n"
     ]
    },
    {
     "data": {
      "text/latex": [
       "$\\displaystyle \\text{Gold:}\\; 6 y^{2} + 3$"
      ],
      "text/plain": [
       "<IPython.core.display.Math object>"
      ]
     },
     "metadata": {},
     "output_type": "display_data"
    },
    {
     "data": {
      "text/latex": [
       "$\\displaystyle \\text{Predicted:}\\; \\cancel{6\\, x^{2}} +\\cancel{3}\\, y^{2} +3$"
      ],
      "text/plain": [
       "<IPython.core.display.Math object>"
      ]
     },
     "metadata": {},
     "output_type": "display_data"
    },
    {
     "name": "stdout",
     "output_type": "stream",
     "text": [
      "===== Failure case: 733 =====\n"
     ]
    },
    {
     "data": {
      "text/latex": [
       "$\\displaystyle \\text{Gold:}\\; 5 y + 5$"
      ],
      "text/plain": [
       "<IPython.core.display.Math object>"
      ]
     },
     "metadata": {},
     "output_type": "display_data"
    },
    {
     "data": {
      "text/latex": [
       "$\\displaystyle \\text{Predicted:}\\; \\cancel{5\\, y^{2}} +\\cancel{4}\\, y +5$"
      ],
      "text/plain": [
       "<IPython.core.display.Math object>"
      ]
     },
     "metadata": {},
     "output_type": "display_data"
    },
    {
     "name": "stdout",
     "output_type": "stream",
     "text": [
      "===== Failure case: 772 =====\n"
     ]
    },
    {
     "data": {
      "text/latex": [
       "$\\displaystyle \\text{Gold:}\\; 3$"
      ],
      "text/plain": [
       "<IPython.core.display.Math object>"
      ]
     },
     "metadata": {},
     "output_type": "display_data"
    },
    {
     "data": {
      "text/latex": [
       "$\\displaystyle \\text{Predicted:}\\; \\cancel{3\\, x} +3$"
      ],
      "text/plain": [
       "<IPython.core.display.Math object>"
      ]
     },
     "metadata": {},
     "output_type": "display_data"
    },
    {
     "name": "stdout",
     "output_type": "stream",
     "text": [
      "===== Failure case: 884 =====\n"
     ]
    },
    {
     "data": {
      "text/latex": [
       "$\\displaystyle \\text{Gold:}\\; 2$"
      ],
      "text/plain": [
       "<IPython.core.display.Math object>"
      ]
     },
     "metadata": {},
     "output_type": "display_data"
    },
    {
     "data": {
      "text/latex": [
       "$\\displaystyle \\text{Predicted:}\\; \\cancel{2\\, y} +2$"
      ],
      "text/plain": [
       "<IPython.core.display.Math object>"
      ]
     },
     "metadata": {},
     "output_type": "display_data"
    },
    {
     "name": "stdout",
     "output_type": "stream",
     "text": [
      "===== Failure case: 939 =====\n"
     ]
    },
    {
     "data": {
      "text/latex": [
       "$\\displaystyle \\text{Gold:}\\; 2$"
      ],
      "text/plain": [
       "<IPython.core.display.Math object>"
      ]
     },
     "metadata": {},
     "output_type": "display_data"
    },
    {
     "data": {
      "text/latex": [
       "$\\displaystyle \\text{Predicted:}\\; \\cancel{4\\, y} +2$"
      ],
      "text/plain": [
       "<IPython.core.display.Math object>"
      ]
     },
     "metadata": {},
     "output_type": "display_data"
    }
   ],
   "source": [
    "gen_texts, ref_texts = load_eval_results(\"results/demo/eval_results.json\")\n",
    "\n",
    "for i, (gen, ref) in enumerate(zip(gen_texts, ref_texts)):\n",
    "    gen_expr = parse_poly(gen, [\"x\", \"y\"])\n",
    "    ref_expr = parse_poly(ref, [\"x\", \"y\"])\n",
    "    if gen_expr != ref_expr:\n",
    "        print(f\"===== Failure case: {i+1} =====\")\n",
    "        display_with_diff(ref_expr, gen_expr)"
   ]
  },
  {
   "cell_type": "code",
   "execution_count": null,
   "metadata": {},
   "outputs": [],
   "source": []
  }
 ],
 "metadata": {
  "kernelspec": {
   "display_name": ".venv",
   "language": "python",
   "name": "python3"
  },
  "language_info": {
   "codemirror_mode": {
    "name": "ipython",
    "version": 3
   },
   "file_extension": ".py",
   "mimetype": "text/x-python",
   "name": "python",
   "nbconvert_exporter": "python",
   "pygments_lexer": "ipython3",
   "version": "3.12.9"
  }
 },
 "nbformat": 4,
 "nbformat_minor": 2
}
