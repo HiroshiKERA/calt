{
 "cells": [
  {
   "cell_type": "markdown",
   "metadata": {},
   "source": [
    "# **calt Demo Notebook**\n",
    "\n",
    "This notebook shows a minimal end‑to‑end workflow for the **calt** library:\n",
    "\n",
    "1. **Install and import** the library  \n",
    "2. **Generate** a dataset of *polynomial‑sum* examples  \n",
    "3. **Configure** the tokenizer and model  \n",
    "4. **Train** the Transformer  \n",
    "5. **Visualize** training result  \n"
   ]
  },
  {
   "cell_type": "markdown",
   "metadata": {},
   "source": [
    "## 1  – Installation & Imports  \n",
    "Run the next cell to ensure **calt** and its dependencies are installed, then import the required Python packages.  \n"
   ]
  },
  {
   "cell_type": "code",
   "execution_count": null,
   "metadata": {},
   "outputs": [],
   "source": [
    "!pip install calt-x"
   ]
  },
  {
   "cell_type": "code",
   "execution_count": 3,
   "metadata": {},
   "outputs": [
    {
     "data": {
      "text/plain": [
       "<torch._C.Generator at 0x155418501050>"
      ]
     },
     "execution_count": 3,
     "metadata": {},
     "output_type": "execute_result"
    }
   ],
   "source": [
    "from typing import List, Tuple\n",
    "import random\n",
    "from sympy import ZZ\n",
    "from sympy.polys.rings import ring, PolyElement\n",
    "from transformers import BartConfig, BartForConditionalGeneration as Transformer\n",
    "from transformers import TrainingArguments\n",
    "from calt import (\n",
    "    PolynomialTrainer,\n",
    "    data_loader,\n",
    ")\n",
    "from calt.generate import (\n",
    "    PolynomialSampler,\n",
    "    DatasetGenerator,\n",
    "    DatasetWriter,\n",
    ")\n",
    "from calt.data_loader.utils import (\n",
    "    load_eval_results,\n",
    "    parse_poly,\n",
    "    display_with_diff\n",
    ")\n",
    "import torch, random, numpy as np\n",
    "\n",
    "SEED = 42\n",
    "random.seed(SEED)\n",
    "np.random.seed(SEED)\n",
    "torch.manual_seed(SEED)"
   ]
  },
  {
   "cell_type": "markdown",
   "metadata": {},
   "source": [
    "## 2  – Dataset Generation *(Polynomial Addition)*  \n",
    "This cell uses `calt.generator` utilities to create a synthetic dataset of polynomial‑addition."
   ]
  },
  {
   "cell_type": "code",
   "execution_count": 4,
   "metadata": {},
   "outputs": [],
   "source": [
    "class SumProblemGenerator:\n",
    "    \"\"\"\n",
    "    Problem generator for sum problems involving polynomials.\n",
    "\n",
    "    This generator generates problems in which the input is a list of polynomials F = [f_1, f_2, ..., f_n],\n",
    "    and the output is a polynomial g = f_1 + f_2 + ... + f_i.\n",
    "    \"\"\"\n",
    "\n",
    "    def __init__(\n",
    "        self, sampler: PolynomialSampler, max_polynomials: int, min_polynomials: int\n",
    "    ):\n",
    "        \"\"\"\n",
    "        Initialize polynomial sum sampler.\n",
    "\n",
    "        Args:\n",
    "            sampler: Polynomial sampler\n",
    "            max_polynomials: Maximum number of polynomials in F\n",
    "            min_polynomials: Minimum number of polynomials in F\n",
    "        \"\"\"\n",
    "\n",
    "        self.sampler = sampler\n",
    "        self.max_polynomials = max_polynomials\n",
    "        self.min_polynomials = min_polynomials\n",
    "\n",
    "    def __call__(self, seed: int) -> Tuple[List[PolyElement], List[PolyElement]]:\n",
    "        \"\"\"\n",
    "        Generate a single sample.\n",
    "\n",
    "        Each sample consists of:\n",
    "        - Input polynomial system F\n",
    "        - Output polynomial system g\n",
    "\n",
    "        Args:\n",
    "            seed: Seed for random number generator\n",
    "\n",
    "        Returns:\n",
    "            Tuple containing (F, g)\n",
    "        \"\"\"\n",
    "\n",
    "        # Set random seed\n",
    "        random.seed(seed)\n",
    "\n",
    "        # Choose number of polynomials for this sample\n",
    "        num_polys = random.randint(self.min_polynomials, self.max_polynomials)\n",
    "\n",
    "        # Generate input polynomials using sampler\n",
    "        F = self.sampler.sample(num_samples=num_polys)\n",
    "\n",
    "        # Generate sums for output\n",
    "        current_sum = 0\n",
    "        for f in F:\n",
    "            current_sum += f\n",
    "\n",
    "        return F, current_sum\n"
   ]
  },
  {
   "cell_type": "code",
   "execution_count": 15,
   "metadata": {},
   "outputs": [
    {
     "name": "stderr",
     "output_type": "stream",
     "text": [
      "[Parallel(n_jobs=1)]: Done  49 tasks      | elapsed:    0.0s\n",
      "[Parallel(n_jobs=1)]: Done 199 tasks      | elapsed:    0.0s\n",
      "[Parallel(n_jobs=1)]: Done 449 tasks      | elapsed:    0.0s\n",
      "[Parallel(n_jobs=1)]: Done 799 tasks      | elapsed:    0.0s\n",
      "[Parallel(n_jobs=1)]: Done 1249 tasks      | elapsed:    0.1s\n",
      "[Parallel(n_jobs=1)]: Done 1799 tasks      | elapsed:    0.1s\n",
      "[Parallel(n_jobs=1)]: Done 2449 tasks      | elapsed:    0.1s\n",
      "[Parallel(n_jobs=1)]: Done 3199 tasks      | elapsed:    0.1s\n",
      "[Parallel(n_jobs=1)]: Done 4049 tasks      | elapsed:    0.5s\n",
      "[Parallel(n_jobs=1)]: Done 4999 tasks      | elapsed:    0.5s\n",
      "[Parallel(n_jobs=1)]: Done 6049 tasks      | elapsed:    0.5s\n",
      "[Parallel(n_jobs=1)]: Done 7199 tasks      | elapsed:    0.6s\n",
      "[Parallel(n_jobs=1)]: Done 8449 tasks      | elapsed:    0.6s\n",
      "[Parallel(n_jobs=1)]: Done 9799 tasks      | elapsed:    0.7s\n",
      "[Parallel(n_jobs=1)]: Done 10000 out of 10000 | elapsed:    0.7s finished\n",
      "[Parallel(n_jobs=1)]: Done  49 tasks      | elapsed:    0.0s\n",
      "[Parallel(n_jobs=1)]: Done 199 tasks      | elapsed:    0.0s\n",
      "[Parallel(n_jobs=1)]: Done 449 tasks      | elapsed:    0.0s\n",
      "[Parallel(n_jobs=1)]: Done 799 tasks      | elapsed:    0.0s\n",
      "[Parallel(n_jobs=1)]: Done 1000 out of 1000 | elapsed:    0.0s finished\n"
     ]
    }
   ],
   "source": [
    "save_dir = \".\"\n",
    "\n",
    "# set up polynomial ring\n",
    "R, *gens = ring(\"x0,x1\", ZZ, order=\"grevlex\")\n",
    "# Initialize polynomial sampler\n",
    "sampler = PolynomialSampler(\n",
    "    ring=R,\n",
    "    max_num_terms=2,\n",
    "    max_degree=2,\n",
    "    min_degree=1,\n",
    "    degree_sampling=\"uniform\",  # \"uniform\" or \"fixed\"\n",
    "    term_sampling=\"uniform\",  # \"uniform\" or \"fixed\"\n",
    "    max_coeff=10,  # Used for RR and ZZ\n",
    "    num_bound=None,  # Used for QQ\n",
    "    strictly_conditioned=False,\n",
    "    nonzero_instance=True,\n",
    ")\n",
    "# Initialize problem generator\n",
    "problem_generator = SumProblemGenerator(\n",
    "    sampler=sampler,\n",
    "    max_polynomials=2,\n",
    "    min_polynomials=2,\n",
    ")\n",
    "# Initialize dataset generator\n",
    "dataset_generator = DatasetGenerator(\n",
    "    backend=\"multiprocessing\",\n",
    "    n_jobs=1,  # warning: if you set a value other than 1, the current version may throw an error.\n",
    "    verbose=True,\n",
    "    root_seed=100,\n",
    ")\n",
    "# Generate training set\n",
    "train_samples, _ = dataset_generator.run(\n",
    "    train=True,\n",
    "    num_samples=10000,\n",
    "    problem_generator=problem_generator,\n",
    ")\n",
    "# Generate test set\n",
    "test_samples, _ = dataset_generator.run(\n",
    "    train=False,\n",
    "    num_samples=1000,\n",
    "    problem_generator=problem_generator,\n",
    ")\n",
    "# Initialize writer\n",
    "dataset_writer = DatasetWriter(save_dir)\n",
    "# Save datasets\n",
    "dataset_writer.save_dataset(train_samples, tag=\"train\")\n",
    "dataset_writer.save_dataset(test_samples, tag=\"test\")"
   ]
  },
  {
   "cell_type": "markdown",
   "metadata": {},
   "source": [
    "## 3  – Model Configuration  \n",
    "Here we instantiate the tokenizer, define the Transformer architecture, and prepare the training pipeline.  \n"
   ]
  },
  {
   "cell_type": "code",
   "execution_count": 16,
   "metadata": {},
   "outputs": [],
   "source": [
    "# Point to any dataset you like; here we assume the toy Sum dataset from the data‑generation notebook.\n",
    "TRAIN_PATH = \"train_raw.txt\"\n",
    "TEST_PATH = \"test_raw.txt\"\n",
    "dataset, tokenizer, data_collator = data_loader(\n",
    "    train_dataset_path=TRAIN_PATH,\n",
    "    test_dataset_path=TEST_PATH,\n",
    "    field=\"ZZ\",\n",
    "    num_variables=2,\n",
    "    max_degree=10,\n",
    "    max_coeff=10,\n",
    "    max_length=256,\n",
    ")\n",
    "train_dataset = dataset[\"train\"]\n",
    "test_dataset = dataset[\"test\"]"
   ]
  },
  {
   "cell_type": "code",
   "execution_count": 17,
   "metadata": {},
   "outputs": [],
   "source": [
    "# Minimal architecture.\n",
    "model_cfg = BartConfig(\n",
    "    d_model=256,\n",
    "    vocab_size=len(tokenizer.vocab),\n",
    "    encoder_layers=2,\n",
    "    decoder_layers=2,\n",
    "    max_position_embeddings=256,\n",
    "    pad_token_id=tokenizer.pad_token_id,\n",
    "    bos_token_id=tokenizer.bos_token_id,\n",
    "    eos_token_id=tokenizer.eos_token_id,\n",
    "    decoder_start_token_id=tokenizer.bos_token_id,\n",
    "    max_length=256,\n",
    ")\n",
    "model = Transformer(config=model_cfg)"
   ]
  },
  {
   "cell_type": "markdown",
   "metadata": {},
   "source": [
    "## 4  – Training Hyper‑parameters  \n",
    "Learning‑rate schedule, batch size, number of epochs, and other trainer options are declared in this cell.  \n"
   ]
  },
  {
   "cell_type": "code",
   "execution_count": 18,
   "metadata": {},
   "outputs": [],
   "source": [
    "args = TrainingArguments(\n",
    "    output_dir=\"results/\",\n",
    "    num_train_epochs=20,\n",
    "    logging_steps=50,\n",
    "    per_device_train_batch_size=int(128),\n",
    "    per_device_eval_batch_size=int(128),\n",
    "    save_strategy=\"no\",  # skip checkpoints for the quick demo\n",
    "    seed=SEED,\n",
    "    remove_unused_columns=False,\n",
    "    label_names=[\"labels\"],\n",
    "    report_to=\"none\",\n",
    ")"
   ]
  },
  {
   "cell_type": "markdown",
   "metadata": {},
   "source": [
    "## 5  – Model Training  \n",
    "Launch the training loop. Progress is typically logged to the console (and optionally to Weights & Biases).  \n"
   ]
  },
  {
   "cell_type": "code",
   "execution_count": 19,
   "metadata": {},
   "outputs": [
    {
     "name": "stderr",
     "output_type": "stream",
     "text": [
      "/home/sato/workspace/calt/.venv/lib/python3.12/site-packages/torch/nn/parallel/_functions.py:71: UserWarning: Was asked to gather along dimension 0, but all input tensors were scalars; will instead unsqueeze and return a vector.\n",
      "  warnings.warn(\n"
     ]
    },
    {
     "data": {
      "text/html": [
       "\n",
       "    <div>\n",
       "      \n",
       "      <progress value='200' max='200' style='width:300px; height:20px; vertical-align: middle;'></progress>\n",
       "      [200/200 00:24, Epoch 20/20]\n",
       "    </div>\n",
       "    <table border=\"1\" class=\"dataframe\">\n",
       "  <thead>\n",
       " <tr style=\"text-align: left;\">\n",
       "      <th>Step</th>\n",
       "      <th>Training Loss</th>\n",
       "    </tr>\n",
       "  </thead>\n",
       "  <tbody>\n",
       "    <tr>\n",
       "      <td>50</td>\n",
       "      <td>2.054600</td>\n",
       "    </tr>\n",
       "    <tr>\n",
       "      <td>100</td>\n",
       "      <td>1.252500</td>\n",
       "    </tr>\n",
       "    <tr>\n",
       "      <td>150</td>\n",
       "      <td>1.107500</td>\n",
       "    </tr>\n",
       "    <tr>\n",
       "      <td>200</td>\n",
       "      <td>1.016000</td>\n",
       "    </tr>\n",
       "  </tbody>\n",
       "</table><p>"
      ],
      "text/plain": [
       "<IPython.core.display.HTML object>"
      ]
     },
     "metadata": {},
     "output_type": "display_data"
    },
    {
     "name": "stderr",
     "output_type": "stream",
     "text": [
      "/home/sato/workspace/calt/.venv/lib/python3.12/site-packages/transformers/modeling_utils.py:3465: UserWarning: Moving the following attributes in the config to the generation config: {'max_length': 256}. You are seeing this warning because you've set generation parameters in the model config, as opposed to in the generation config.\n",
      "  warnings.warn(\n"
     ]
    },
    {
     "data": {
      "text/html": [
       "\n",
       "    <div>\n",
       "      \n",
       "      <progress value='1' max='1' style='width:300px; height:20px; vertical-align: middle;'></progress>\n",
       "      [1/1 : < :]\n",
       "    </div>\n",
       "    "
      ],
      "text/plain": [
       "<IPython.core.display.HTML object>"
      ]
     },
     "metadata": {},
     "output_type": "display_data"
    }
   ],
   "source": [
    "trainer = PolynomialTrainer(\n",
    "    args=args,\n",
    "    model=model,\n",
    "    processing_class=tokenizer,\n",
    "    data_collator=data_collator,\n",
    "    train_dataset=train_dataset,\n",
    "    eval_dataset=test_dataset,\n",
    ")\n",
    "\n",
    "# train\n",
    "results = trainer.train()\n",
    "trainer.save_model()\n",
    "metrics = results.metrics\n",
    "\n",
    "# eval\n",
    "eval_metrics = trainer.evaluate()\n",
    "metrics.update(eval_metrics)\n",
    "success_rate = trainer.generate_evaluation(max_length=128)\n",
    "metrics[\"success_rate\"] = success_rate\n",
    "\n",
    "# save metrics\n",
    "trainer.save_metrics(\"all\", metrics)"
   ]
  },
  {
   "cell_type": "markdown",
   "metadata": {},
   "source": [
    "## 6  – Visualizing Training Results  \n",
    "Finally, we visualize the differences between the mispredicted samples and their correct counterparts. \n"
   ]
  },
  {
   "cell_type": "code",
   "execution_count": 20,
   "metadata": {},
   "outputs": [
    {
     "name": "stdout",
     "output_type": "stream",
     "text": [
      "===== Failure case: 160 =====\n"
     ]
    },
    {
     "data": {
      "text/latex": [
       "$\\displaystyle \\begin{aligned}\n",
       "        \\text{Ground truth\\,:}\\; & {}5\\\\\n",
       "        \\text{Prediction\\,:}\\;   & {}\\cancel{5\\, y}\n",
       "        \\end{aligned}$"
      ],
      "text/plain": [
       "<IPython.core.display.Math object>"
      ]
     },
     "metadata": {},
     "output_type": "display_data"
    },
    {
     "name": "stdout",
     "output_type": "stream",
     "text": [
      "===== Failure case: 178 =====\n"
     ]
    },
    {
     "data": {
      "text/latex": [
       "$\\displaystyle \\begin{aligned}\n",
       "        \\text{Ground truth\\,:}\\; & {}4 x + 5 y + 4\\\\\n",
       "        \\text{Prediction\\,:}\\;   & {}4\\, x +5\\, y\n",
       "        \\end{aligned}$"
      ],
      "text/plain": [
       "<IPython.core.display.Math object>"
      ]
     },
     "metadata": {},
     "output_type": "display_data"
    },
    {
     "name": "stdout",
     "output_type": "stream",
     "text": [
      "===== Failure case: 181 =====\n"
     ]
    },
    {
     "data": {
      "text/latex": [
       "$\\displaystyle \\begin{aligned}\n",
       "        \\text{Ground truth\\,:}\\; & {}1\\\\\n",
       "        \\text{Prediction\\,:}\\;   & {}\\cancel{y} +1\n",
       "        \\end{aligned}$"
      ],
      "text/plain": [
       "<IPython.core.display.Math object>"
      ]
     },
     "metadata": {},
     "output_type": "display_data"
    },
    {
     "name": "stdout",
     "output_type": "stream",
     "text": [
      "===== Failure case: 195 =====\n"
     ]
    },
    {
     "data": {
      "text/latex": [
       "$\\displaystyle \\begin{aligned}\n",
       "        \\text{Ground truth\\,:}\\; & {}2 y\\\\\n",
       "        \\text{Prediction\\,:}\\;   & {}\\cancel{2\\, x} +2\\, y\n",
       "        \\end{aligned}$"
      ],
      "text/plain": [
       "<IPython.core.display.Math object>"
      ]
     },
     "metadata": {},
     "output_type": "display_data"
    },
    {
     "name": "stdout",
     "output_type": "stream",
     "text": [
      "===== Failure case: 205 =====\n"
     ]
    },
    {
     "data": {
      "text/latex": [
       "$\\displaystyle \\begin{aligned}\n",
       "        \\text{Ground truth\\,:}\\; & {}2\\\\\n",
       "        \\text{Prediction\\,:}\\;   & {}\\cancel{2\\, y} +2\n",
       "        \\end{aligned}$"
      ],
      "text/plain": [
       "<IPython.core.display.Math object>"
      ]
     },
     "metadata": {},
     "output_type": "display_data"
    },
    {
     "name": "stdout",
     "output_type": "stream",
     "text": [
      "===== Failure case: 235 =====\n"
     ]
    },
    {
     "data": {
      "text/latex": [
       "$\\displaystyle \\begin{aligned}\n",
       "        \\text{Ground truth\\,:}\\; & {}4\\\\\n",
       "        \\text{Prediction\\,:}\\;   & {}\\cancel{4\\, y} +4\n",
       "        \\end{aligned}$"
      ],
      "text/plain": [
       "<IPython.core.display.Math object>"
      ]
     },
     "metadata": {},
     "output_type": "display_data"
    },
    {
     "name": "stdout",
     "output_type": "stream",
     "text": [
      "===== Failure case: 295 =====\n"
     ]
    },
    {
     "data": {
      "text/latex": [
       "$\\displaystyle \\begin{aligned}\n",
       "        \\text{Ground truth\\,:}\\; & {}4\\\\\n",
       "        \\text{Prediction\\,:}\\;   & {}\\cancel{4\\, x^{2}} +\\cancel{1}\n",
       "        \\end{aligned}$"
      ],
      "text/plain": [
       "<IPython.core.display.Math object>"
      ]
     },
     "metadata": {},
     "output_type": "display_data"
    },
    {
     "name": "stdout",
     "output_type": "stream",
     "text": [
      "===== Failure case: 299 =====\n"
     ]
    },
    {
     "data": {
      "text/latex": [
       "$\\displaystyle \\begin{aligned}\n",
       "        \\text{Ground truth\\,:}\\; & {}3 y\\\\\n",
       "        \\text{Prediction\\,:}\\;   & {}\\cancel{5\\, x\\, y} +y\n",
       "        \\end{aligned}$"
      ],
      "text/plain": [
       "<IPython.core.display.Math object>"
      ]
     },
     "metadata": {},
     "output_type": "display_data"
    },
    {
     "name": "stdout",
     "output_type": "stream",
     "text": [
      "===== Failure case: 358 =====\n"
     ]
    },
    {
     "data": {
      "text/latex": [
       "$\\displaystyle \\begin{aligned}\n",
       "        \\text{Ground truth\\,:}\\; & {}5 y\\\\\n",
       "        \\text{Prediction\\,:}\\;   & {}\\cancel{5\\, x} +5\\, y\n",
       "        \\end{aligned}$"
      ],
      "text/plain": [
       "<IPython.core.display.Math object>"
      ]
     },
     "metadata": {},
     "output_type": "display_data"
    },
    {
     "name": "stdout",
     "output_type": "stream",
     "text": [
      "===== Failure case: 530 =====\n"
     ]
    },
    {
     "data": {
      "text/latex": [
       "$\\displaystyle \\begin{aligned}\n",
       "        \\text{Ground truth\\,:}\\; & {}4\\\\\n",
       "        \\text{Prediction\\,:}\\;   & {}\\cancel{4\\, y} +4\n",
       "        \\end{aligned}$"
      ],
      "text/plain": [
       "<IPython.core.display.Math object>"
      ]
     },
     "metadata": {},
     "output_type": "display_data"
    },
    {
     "name": "stdout",
     "output_type": "stream",
     "text": [
      "===== Failure case: 580 =====\n"
     ]
    },
    {
     "data": {
      "text/latex": [
       "$\\displaystyle \\begin{aligned}\n",
       "        \\text{Ground truth\\,:}\\; & {}0\\\\\n",
       "        \\text{Prediction\\,:}\\;   & {}\\cancel{2\\, y}\n",
       "        \\end{aligned}$"
      ],
      "text/plain": [
       "<IPython.core.display.Math object>"
      ]
     },
     "metadata": {},
     "output_type": "display_data"
    },
    {
     "name": "stdout",
     "output_type": "stream",
     "text": [
      "===== Failure case: 614 =====\n"
     ]
    },
    {
     "data": {
      "text/latex": [
       "$\\displaystyle \\begin{aligned}\n",
       "        \\text{Ground truth\\,:}\\; & {}0\\\\\n",
       "        \\text{Prediction\\,:}\\;   & {}\\cancel{4\\, x^{2}}\n",
       "        \\end{aligned}$"
      ],
      "text/plain": [
       "<IPython.core.display.Math object>"
      ]
     },
     "metadata": {},
     "output_type": "display_data"
    },
    {
     "name": "stdout",
     "output_type": "stream",
     "text": [
      "===== Failure case: 639 =====\n"
     ]
    },
    {
     "data": {
      "text/latex": [
       "$\\displaystyle \\begin{aligned}\n",
       "        \\text{Ground truth\\,:}\\; & {}2\\\\\n",
       "        \\text{Prediction\\,:}\\;   & {}\\cancel{2\\, x\\, y} +\\cancel{x} +\\cancel{3}\n",
       "        \\end{aligned}$"
      ],
      "text/plain": [
       "<IPython.core.display.Math object>"
      ]
     },
     "metadata": {},
     "output_type": "display_data"
    },
    {
     "name": "stdout",
     "output_type": "stream",
     "text": [
      "===== Failure case: 694 =====\n"
     ]
    },
    {
     "data": {
      "text/latex": [
       "$\\displaystyle \\begin{aligned}\n",
       "        \\text{Ground truth\\,:}\\; & {}6 y^{2} + 3\\\\\n",
       "        \\text{Prediction\\,:}\\;   & {}\\cancel{6\\, x^{2}} +\\cancel{3}\\, y^{2} +3\n",
       "        \\end{aligned}$"
      ],
      "text/plain": [
       "<IPython.core.display.Math object>"
      ]
     },
     "metadata": {},
     "output_type": "display_data"
    },
    {
     "name": "stdout",
     "output_type": "stream",
     "text": [
      "===== Failure case: 733 =====\n"
     ]
    },
    {
     "data": {
      "text/latex": [
       "$\\displaystyle \\begin{aligned}\n",
       "        \\text{Ground truth\\,:}\\; & {}5 y + 5\\\\\n",
       "        \\text{Prediction\\,:}\\;   & {}\\cancel{5\\, y^{2}} +\\cancel{4}\\, y +5\n",
       "        \\end{aligned}$"
      ],
      "text/plain": [
       "<IPython.core.display.Math object>"
      ]
     },
     "metadata": {},
     "output_type": "display_data"
    },
    {
     "name": "stdout",
     "output_type": "stream",
     "text": [
      "===== Failure case: 772 =====\n"
     ]
    },
    {
     "data": {
      "text/latex": [
       "$\\displaystyle \\begin{aligned}\n",
       "        \\text{Ground truth\\,:}\\; & {}3\\\\\n",
       "        \\text{Prediction\\,:}\\;   & {}\\cancel{3\\, x} +3\n",
       "        \\end{aligned}$"
      ],
      "text/plain": [
       "<IPython.core.display.Math object>"
      ]
     },
     "metadata": {},
     "output_type": "display_data"
    },
    {
     "name": "stdout",
     "output_type": "stream",
     "text": [
      "===== Failure case: 884 =====\n"
     ]
    },
    {
     "data": {
      "text/latex": [
       "$\\displaystyle \\begin{aligned}\n",
       "        \\text{Ground truth\\,:}\\; & {}2\\\\\n",
       "        \\text{Prediction\\,:}\\;   & {}\\cancel{2\\, y} +2\n",
       "        \\end{aligned}$"
      ],
      "text/plain": [
       "<IPython.core.display.Math object>"
      ]
     },
     "metadata": {},
     "output_type": "display_data"
    },
    {
     "name": "stdout",
     "output_type": "stream",
     "text": [
      "===== Failure case: 939 =====\n"
     ]
    },
    {
     "data": {
      "text/latex": [
       "$\\displaystyle \\begin{aligned}\n",
       "        \\text{Ground truth\\,:}\\; & {}2\\\\\n",
       "        \\text{Prediction\\,:}\\;   & {}\\cancel{4\\, y} +2\n",
       "        \\end{aligned}$"
      ],
      "text/plain": [
       "<IPython.core.display.Math object>"
      ]
     },
     "metadata": {},
     "output_type": "display_data"
    }
   ],
   "source": [
    "gen_texts, ref_texts = load_eval_results(\"results/demo/eval_results.json\")\n",
    "\n",
    "for i, (gen, ref) in enumerate(zip(gen_texts, ref_texts)):\n",
    "    gen_expr = parse_poly(gen, [\"x\", \"y\"])\n",
    "    ref_expr = parse_poly(ref, [\"x\", \"y\"])\n",
    "    if gen_expr != ref_expr:\n",
    "        print(f\"===== Failure case: {i+1} =====\")\n",
    "        display_with_diff(ref_expr, gen_expr)"
   ]
  },
  {
   "cell_type": "code",
   "execution_count": null,
   "metadata": {},
   "outputs": [],
   "source": []
  }
 ],
 "metadata": {
  "kernelspec": {
   "display_name": ".venv",
   "language": "python",
   "name": "python3"
  },
  "language_info": {
   "codemirror_mode": {
    "name": "ipython",
    "version": 3
   },
   "file_extension": ".py",
   "mimetype": "text/x-python",
   "name": "python",
   "nbconvert_exporter": "python",
   "pygments_lexer": "ipython3",
   "version": "3.12.9"
  }
 },
 "nbformat": 4,
 "nbformat_minor": 2
}
